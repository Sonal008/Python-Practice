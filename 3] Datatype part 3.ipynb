{
 "cells": [
  {
   "cell_type": "markdown",
   "id": "89e1f11e",
   "metadata": {},
   "source": [
    "## 1] list inside tuple "
   ]
  },
  {
   "cell_type": "code",
   "execution_count": 1,
   "id": "a6e5aed9",
   "metadata": {},
   "outputs": [
    {
     "data": {
      "text/plain": [
       "('ball', 'bat', [10, 300, 16], 'rope')"
      ]
     },
     "execution_count": 1,
     "metadata": {},
     "output_type": "execute_result"
    }
   ],
   "source": [
    "play = ('ball', 'bat',[10, 300, 16],'rope')\n",
    "play"
   ]
  },
  {
   "cell_type": "code",
   "execution_count": 2,
   "id": "4b946f9a",
   "metadata": {},
   "outputs": [
    {
     "data": {
      "text/plain": [
       "[10, 300, 16]"
      ]
     },
     "execution_count": 2,
     "metadata": {},
     "output_type": "execute_result"
    }
   ],
   "source": [
    "play[2]"
   ]
  },
  {
   "cell_type": "code",
   "execution_count": 3,
   "id": "95b6c5ab",
   "metadata": {},
   "outputs": [
    {
     "data": {
      "text/plain": [
       "300"
      ]
     },
     "execution_count": 3,
     "metadata": {},
     "output_type": "execute_result"
    }
   ],
   "source": [
    "play[2][1]"
   ]
  },
  {
   "cell_type": "markdown",
   "id": "db343da2",
   "metadata": {},
   "source": [
    "- ### list inside tuple is mutable"
   ]
  },
  {
   "cell_type": "code",
   "execution_count": 4,
   "id": "0a25cf08",
   "metadata": {},
   "outputs": [
    {
     "data": {
      "text/plain": [
       "('ball', 'bat', [10, 300, 16, 90], 'rope')"
      ]
     },
     "execution_count": 4,
     "metadata": {},
     "output_type": "execute_result"
    }
   ],
   "source": [
    "play[2].append(90)      \n",
    "play"
   ]
  },
  {
   "cell_type": "code",
   "execution_count": 5,
   "id": "8d5c5d44",
   "metadata": {},
   "outputs": [
    {
     "data": {
      "text/plain": [
       "('ball', 'bat', [99, 300, 16, 90], 'rope')"
      ]
     },
     "execution_count": 5,
     "metadata": {},
     "output_type": "execute_result"
    }
   ],
   "source": [
    "play[2][0] = 99          #CHANGED LIST ELEMENT INSIDE TUPLE\n",
    "play"
   ]
  },
  {
   "cell_type": "code",
   "execution_count": 6,
   "id": "ba78bdb1",
   "metadata": {},
   "outputs": [
    {
     "data": {
      "text/plain": [
       "[1, 2, 3, 3, (2, 3, 4), 6]"
      ]
     },
     "execution_count": 6,
     "metadata": {},
     "output_type": "execute_result"
    }
   ],
   "source": [
    "x = [1,2,3,3,(2,3,4),6]\n",
    "x"
   ]
  },
  {
   "cell_type": "code",
   "execution_count": 7,
   "id": "ca0abb3c",
   "metadata": {},
   "outputs": [
    {
     "data": {
      "text/plain": [
       "(2, 3, 4)"
      ]
     },
     "execution_count": 7,
     "metadata": {},
     "output_type": "execute_result"
    }
   ],
   "source": [
    "x[4]"
   ]
  },
  {
   "cell_type": "markdown",
   "id": "b76d937a",
   "metadata": {},
   "source": [
    "## 2] IN OPERATOR"
   ]
  },
  {
   "cell_type": "code",
   "execution_count": 8,
   "id": "34f8465d",
   "metadata": {},
   "outputs": [
    {
     "data": {
      "text/plain": [
       "('ball', 'bat', [99, 300, 16, 90], 'rope')"
      ]
     },
     "execution_count": 8,
     "metadata": {},
     "output_type": "execute_result"
    }
   ],
   "source": [
    "play"
   ]
  },
  {
   "cell_type": "code",
   "execution_count": 9,
   "id": "be4c882e",
   "metadata": {},
   "outputs": [
    {
     "data": {
      "text/plain": [
       "True"
      ]
     },
     "execution_count": 9,
     "metadata": {},
     "output_type": "execute_result"
    }
   ],
   "source": [
    "'ball' in play"
   ]
  },
  {
   "cell_type": "code",
   "execution_count": 10,
   "id": "e285b4e2",
   "metadata": {},
   "outputs": [
    {
     "data": {
      "text/plain": [
       "False"
      ]
     },
     "execution_count": 10,
     "metadata": {},
     "output_type": "execute_result"
    }
   ],
   "source": [
    "'bell' in play"
   ]
  },
  {
   "cell_type": "code",
   "execution_count": 11,
   "id": "ab152522",
   "metadata": {},
   "outputs": [],
   "source": [
    "s= 'sonal'"
   ]
  },
  {
   "cell_type": "code",
   "execution_count": 12,
   "id": "2d296643",
   "metadata": {},
   "outputs": [
    {
     "data": {
      "text/plain": [
       "True"
      ]
     },
     "execution_count": 12,
     "metadata": {},
     "output_type": "execute_result"
    }
   ],
   "source": [
    "'n' in s"
   ]
  },
  {
   "cell_type": "markdown",
   "id": "991404f1",
   "metadata": {},
   "source": [
    "## 3] Misc- String"
   ]
  },
  {
   "cell_type": "code",
   "execution_count": 13,
   "id": "61b304bb",
   "metadata": {},
   "outputs": [],
   "source": [
    "location = 'C:\\newfolder'    #n\\ - new line"
   ]
  },
  {
   "cell_type": "code",
   "execution_count": 14,
   "id": "7c21c544",
   "metadata": {},
   "outputs": [
    {
     "name": "stdout",
     "output_type": "stream",
     "text": [
      "C:\n",
      "ewfolder\n"
     ]
    }
   ],
   "source": [
    "print(location)"
   ]
  },
  {
   "cell_type": "code",
   "execution_count": 15,
   "id": "45df388d",
   "metadata": {},
   "outputs": [],
   "source": [
    "location = 'C:\\\\newfolder'"
   ]
  },
  {
   "cell_type": "code",
   "execution_count": 16,
   "id": "58e1c8b9",
   "metadata": {},
   "outputs": [
    {
     "name": "stdout",
     "output_type": "stream",
     "text": [
      "C:\\newfolder\n"
     ]
    }
   ],
   "source": [
    "print(location)"
   ]
  },
  {
   "cell_type": "code",
   "execution_count": 17,
   "id": "18c82e55",
   "metadata": {},
   "outputs": [],
   "source": [
    "location = r'C:\\newfolder'     #r- raw format string "
   ]
  },
  {
   "cell_type": "code",
   "execution_count": 18,
   "id": "5d945932",
   "metadata": {},
   "outputs": [
    {
     "name": "stdout",
     "output_type": "stream",
     "text": [
      "C:\\newfolder\n"
     ]
    }
   ],
   "source": [
    "print(location)"
   ]
  },
  {
   "cell_type": "markdown",
   "id": "ec15622d",
   "metadata": {},
   "source": [
    "## 3.1] FORMAT"
   ]
  },
  {
   "cell_type": "code",
   "execution_count": 19,
   "id": "039537ab",
   "metadata": {},
   "outputs": [],
   "source": [
    "sessioncount = 10"
   ]
  },
  {
   "cell_type": "code",
   "execution_count": 20,
   "id": "db03f253",
   "metadata": {},
   "outputs": [],
   "source": [
    "chapters = 8"
   ]
  },
  {
   "cell_type": "code",
   "execution_count": 21,
   "id": "8006bf76",
   "metadata": {},
   "outputs": [
    {
     "name": "stdout",
     "output_type": "stream",
     "text": [
      "8\n"
     ]
    }
   ],
   "source": [
    "print(chapters)"
   ]
  },
  {
   "cell_type": "code",
   "execution_count": 22,
   "id": "7df97465",
   "metadata": {},
   "outputs": [
    {
     "ename": "TypeError",
     "evalue": "can only concatenate str (not \"int\") to str",
     "output_type": "error",
     "traceback": [
      "\u001b[1;31m---------------------------------------------------------------------------\u001b[0m",
      "\u001b[1;31mTypeError\u001b[0m                                 Traceback (most recent call last)",
      "Input \u001b[1;32mIn [22]\u001b[0m, in \u001b[0;36m<cell line: 1>\u001b[1;34m()\u001b[0m\n\u001b[1;32m----> 1\u001b[0m msg \u001b[38;5;241m=\u001b[39m \u001b[38;5;124;43m'\u001b[39;49m\u001b[38;5;124;43mThere will be\u001b[39;49m\u001b[38;5;124;43m'\u001b[39;49m\u001b[38;5;241;43m+\u001b[39;49m\u001b[43m \u001b[49m\u001b[43mchapters\u001b[49m\n",
      "\u001b[1;31mTypeError\u001b[0m: can only concatenate str (not \"int\") to str"
     ]
    }
   ],
   "source": [
    "msg = 'There will be'+ chapters"
   ]
  },
  {
   "cell_type": "code",
   "execution_count": 23,
   "id": "bb31a43b",
   "metadata": {},
   "outputs": [
    {
     "data": {
      "text/plain": [
       "'There will be 8'"
      ]
     },
     "execution_count": 23,
     "metadata": {},
     "output_type": "execute_result"
    }
   ],
   "source": [
    "msg = 'There will be '+ str(chapters)     #int convert to string\n",
    "msg"
   ]
  },
  {
   "cell_type": "code",
   "execution_count": 24,
   "id": "432b623a",
   "metadata": {},
   "outputs": [
    {
     "data": {
      "text/plain": [
       "'There will be 8 chapters in the course, spanned across 10'"
      ]
     },
     "execution_count": 24,
     "metadata": {},
     "output_type": "execute_result"
    }
   ],
   "source": [
    "# multiple string concat\n",
    "\n",
    "msg = 'There will be '+ str(chapters) +' chapters in the course, spanned across '+str(sessioncount)\n",
    "msg"
   ]
  },
  {
   "cell_type": "code",
   "execution_count": 25,
   "id": "24c27d1c",
   "metadata": {},
   "outputs": [],
   "source": [
    "fmsg = 'There will be {} chapters in the course, spanned across {} sessions'.format(chapters, sessioncount)"
   ]
  },
  {
   "cell_type": "code",
   "execution_count": 26,
   "id": "68f1273a",
   "metadata": {},
   "outputs": [
    {
     "data": {
      "text/plain": [
       "'There will be 8 chapters in the course, spanned across 10 sessions'"
      ]
     },
     "execution_count": 26,
     "metadata": {},
     "output_type": "execute_result"
    }
   ],
   "source": [
    "fmsg                                        # curly brackets {} to place those values"
   ]
  },
  {
   "cell_type": "code",
   "execution_count": 27,
   "id": "e455eb6e",
   "metadata": {},
   "outputs": [],
   "source": [
    "fmsg = 'There will be {0} chapters in the course, spanned across {1} sessions.\\\n",
    "The {1} sesions are scheduled over weekedays'.format(chapters, sessioncount)"
   ]
  },
  {
   "cell_type": "code",
   "execution_count": 28,
   "id": "8327181d",
   "metadata": {},
   "outputs": [
    {
     "data": {
      "text/plain": [
       "'There will be 8 chapters in the course, spanned across 10 sessions.The 10 sesions are scheduled over weekedays'"
      ]
     },
     "execution_count": 28,
     "metadata": {},
     "output_type": "execute_result"
    }
   ],
   "source": [
    "fmsg"
   ]
  },
  {
   "cell_type": "markdown",
   "id": "fb67cb44",
   "metadata": {},
   "source": [
    "## 4] Dictionaries\n",
    "- {}\n",
    "- mutable\n",
    "- collection of key- value pairs"
   ]
  },
  {
   "cell_type": "code",
   "execution_count": 29,
   "id": "f55f9c0a",
   "metadata": {},
   "outputs": [
    {
     "data": {
      "text/plain": [
       "{'a': 'air', 'b': 'back', 'c': 'car', 'p': 'papaya'}"
      ]
     },
     "execution_count": 29,
     "metadata": {},
     "output_type": "execute_result"
    }
   ],
   "source": [
    "fruits = {'a': 'air',\n",
    "         'b': 'back',\n",
    "         \"c\":'car',\n",
    "         'p': 'papaya'}\n",
    "fruits"
   ]
  },
  {
   "cell_type": "code",
   "execution_count": 30,
   "id": "0c3f3b6d",
   "metadata": {},
   "outputs": [
    {
     "data": {
      "text/plain": [
       "dict"
      ]
     },
     "execution_count": 30,
     "metadata": {},
     "output_type": "execute_result"
    }
   ],
   "source": [
    "type(fruits)"
   ]
  },
  {
   "cell_type": "code",
   "execution_count": 31,
   "id": "89106a8c",
   "metadata": {},
   "outputs": [
    {
     "data": {
      "text/plain": [
       "4"
      ]
     },
     "execution_count": 31,
     "metadata": {},
     "output_type": "execute_result"
    }
   ],
   "source": [
    "len(fruits)"
   ]
  },
  {
   "cell_type": "code",
   "execution_count": 32,
   "id": "c6dde1a1",
   "metadata": {},
   "outputs": [
    {
     "data": {
      "text/plain": [
       "'air'"
      ]
     },
     "execution_count": 32,
     "metadata": {},
     "output_type": "execute_result"
    }
   ],
   "source": [
    "fruits['a']    #call the key"
   ]
  },
  {
   "cell_type": "code",
   "execution_count": 33,
   "id": "c7b4f164",
   "metadata": {},
   "outputs": [
    {
     "data": {
      "text/plain": [
       "{'a': 'air', 'b': 'back', 'c': 'car'}"
      ]
     },
     "execution_count": 33,
     "metadata": {},
     "output_type": "execute_result"
    }
   ],
   "source": [
    "del fruits['p']\n",
    "fruits"
   ]
  },
  {
   "cell_type": "code",
   "execution_count": 34,
   "id": "d410db83",
   "metadata": {},
   "outputs": [
    {
     "data": {
      "text/plain": [
       "{'a': 'apricot', 'b': 'back', 'c': 'car'}"
      ]
     },
     "execution_count": 34,
     "metadata": {},
     "output_type": "execute_result"
    }
   ],
   "source": [
    "fruits['a'] = 'apricot'         # dictionary is mutable\n",
    "fruits"
   ]
  },
  {
   "cell_type": "code",
   "execution_count": 35,
   "id": "bff9cc5a",
   "metadata": {},
   "outputs": [
    {
     "data": {
      "text/plain": [
       "'car'"
      ]
     },
     "execution_count": 35,
     "metadata": {},
     "output_type": "execute_result"
    }
   ],
   "source": [
    "fruits.pop('c')                 # pop and shows the element too"
   ]
  },
  {
   "cell_type": "code",
   "execution_count": 36,
   "id": "c3ce64ee",
   "metadata": {},
   "outputs": [
    {
     "data": {
      "text/plain": [
       "{'a': 'apricot', 'b': 'back'}"
      ]
     },
     "execution_count": 36,
     "metadata": {},
     "output_type": "execute_result"
    }
   ],
   "source": [
    "fruits"
   ]
  },
  {
   "cell_type": "code",
   "execution_count": 37,
   "id": "c9b3b95a",
   "metadata": {},
   "outputs": [
    {
     "data": {
      "text/plain": [
       "{'a': 'apricot', 'b': 'back', 'd': 3}"
      ]
     },
     "execution_count": 37,
     "metadata": {},
     "output_type": "execute_result"
    }
   ],
   "source": [
    "fruits['d'] = 3\n",
    "fruits"
   ]
  },
  {
   "cell_type": "code",
   "execution_count": 38,
   "id": "8fabee0a",
   "metadata": {},
   "outputs": [
    {
     "data": {
      "text/plain": [
       "('d', 3)"
      ]
     },
     "execution_count": 38,
     "metadata": {},
     "output_type": "execute_result"
    }
   ],
   "source": [
    "fruits.popitem()               # popitem takes last element "
   ]
  },
  {
   "cell_type": "code",
   "execution_count": 39,
   "id": "58f0f53e",
   "metadata": {},
   "outputs": [
    {
     "data": {
      "text/plain": [
       "{'a': 'air', 'b': 'back', 'c': 'car', 'p': 'papaya'}"
      ]
     },
     "execution_count": 39,
     "metadata": {},
     "output_type": "execute_result"
    }
   ],
   "source": [
    "fruits = {'a': 'ant',\n",
    "          'a': 'air',\n",
    "         'b': 'back',\n",
    "         \"c\":'car',\n",
    "         'p': 'papaya'}\n",
    "fruits"
   ]
  },
  {
   "cell_type": "code",
   "execution_count": 40,
   "id": "bf9d6645",
   "metadata": {},
   "outputs": [
    {
     "data": {
      "text/plain": [
       "{'a': 'ant', 'b': 'back', 'c': 'car', 'p': 'papaya'}"
      ]
     },
     "execution_count": 40,
     "metadata": {},
     "output_type": "execute_result"
    }
   ],
   "source": [
    "fruits = {'a': 'air',\n",
    "          'a': 'ant',\n",
    "         'b': 'back',\n",
    "         \"c\":'car',\n",
    "         'p': 'papaya'}\n",
    "fruits\n",
    "\n",
    "#assigning same key twice "
   ]
  },
  {
   "cell_type": "code",
   "execution_count": 41,
   "id": "1d0e787f",
   "metadata": {},
   "outputs": [
    {
     "data": {
      "text/plain": [
       "{'a': 'ant', 'b': 'back', 'c': 'car', 'p': 'papaya'}"
      ]
     },
     "execution_count": 41,
     "metadata": {},
     "output_type": "execute_result"
    }
   ],
   "source": [
    "fruits"
   ]
  },
  {
   "cell_type": "code",
   "execution_count": 42,
   "id": "9a84223c",
   "metadata": {},
   "outputs": [
    {
     "data": {
      "text/plain": [
       "dict_keys(['a', 'b', 'c', 'p'])"
      ]
     },
     "execution_count": 42,
     "metadata": {},
     "output_type": "execute_result"
    }
   ],
   "source": [
    "fruits.keys()"
   ]
  },
  {
   "cell_type": "code",
   "execution_count": 43,
   "id": "2d164def",
   "metadata": {},
   "outputs": [
    {
     "data": {
      "text/plain": [
       "dict_values(['ant', 'back', 'car', 'papaya'])"
      ]
     },
     "execution_count": 43,
     "metadata": {},
     "output_type": "execute_result"
    }
   ],
   "source": [
    "fruits.values()"
   ]
  },
  {
   "cell_type": "code",
   "execution_count": 44,
   "id": "43032fe2",
   "metadata": {},
   "outputs": [
    {
     "data": {
      "text/plain": [
       "dict_items([('a', 'ant'), ('b', 'back'), ('c', 'car'), ('p', 'papaya')])"
      ]
     },
     "execution_count": 44,
     "metadata": {},
     "output_type": "execute_result"
    }
   ],
   "source": [
    "fruits.items()"
   ]
  },
  {
   "cell_type": "markdown",
   "id": "6313c778",
   "metadata": {},
   "source": [
    "## 5] split"
   ]
  },
  {
   "cell_type": "code",
   "execution_count": 45,
   "id": "bd793d62",
   "metadata": {},
   "outputs": [],
   "source": [
    "Input = 'This is from VertexBlue'\n",
    "# output: 'VertexBlue from is This' "
   ]
  },
  {
   "cell_type": "code",
   "execution_count": 46,
   "id": "e3c14e7a",
   "metadata": {},
   "outputs": [
    {
     "data": {
      "text/plain": [
       "['This', 'is', 'from', 'VertexBlue']"
      ]
     },
     "execution_count": 46,
     "metadata": {},
     "output_type": "execute_result"
    }
   ],
   "source": [
    "Input.split()"
   ]
  },
  {
   "cell_type": "code",
   "execution_count": 47,
   "id": "24d81fa0",
   "metadata": {},
   "outputs": [
    {
     "data": {
      "text/plain": [
       "'is'"
      ]
     },
     "execution_count": 47,
     "metadata": {},
     "output_type": "execute_result"
    }
   ],
   "source": [
    "Input.split()[1]"
   ]
  },
  {
   "cell_type": "code",
   "execution_count": 48,
   "id": "df3c0ec9",
   "metadata": {},
   "outputs": [
    {
     "data": {
      "text/plain": [
       "['VertexBlue', 'from', 'is', 'This']"
      ]
     },
     "execution_count": 48,
     "metadata": {},
     "output_type": "execute_result"
    }
   ],
   "source": [
    "Input.split()[::-1]                     # reverse the string"
   ]
  },
  {
   "cell_type": "markdown",
   "id": "a7984e38",
   "metadata": {},
   "source": [
    "## 6] join"
   ]
  },
  {
   "cell_type": "code",
   "execution_count": 49,
   "id": "782b0971",
   "metadata": {},
   "outputs": [
    {
     "data": {
      "text/plain": [
       "'VertexBlue-from-is-This'"
      ]
     },
     "execution_count": 49,
     "metadata": {},
     "output_type": "execute_result"
    }
   ],
   "source": [
    "'-'.join(Input.split()[::-1])           "
   ]
  },
  {
   "cell_type": "code",
   "execution_count": 50,
   "id": "8029b863",
   "metadata": {},
   "outputs": [
    {
     "data": {
      "text/plain": [
       "'VertexBlue from is This'"
      ]
     },
     "execution_count": 50,
     "metadata": {},
     "output_type": "execute_result"
    }
   ],
   "source": [
    "' '.join(Input.split()[::-1])"
   ]
  },
  {
   "cell_type": "code",
   "execution_count": 51,
   "id": "cbfd97fa",
   "metadata": {},
   "outputs": [
    {
     "data": {
      "text/plain": [
       "False"
      ]
     },
     "execution_count": 51,
     "metadata": {},
     "output_type": "execute_result"
    }
   ],
   "source": [
    "'air' in fruits.values()                # in operation on dictionaries"
   ]
  },
  {
   "cell_type": "code",
   "execution_count": 52,
   "id": "795b37aa",
   "metadata": {},
   "outputs": [
    {
     "data": {
      "text/plain": [
       "True"
      ]
     },
     "execution_count": 52,
     "metadata": {},
     "output_type": "execute_result"
    }
   ],
   "source": [
    "'ant' in fruits.values()"
   ]
  },
  {
   "cell_type": "markdown",
   "id": "c9e59fa9",
   "metadata": {},
   "source": [
    "## 7] Range\n",
    "- used to generate sequence of numbers\n",
    "- start(included)\n",
    "- stop(excluded)\n",
    "- step count"
   ]
  },
  {
   "cell_type": "code",
   "execution_count": 53,
   "id": "76bd2951",
   "metadata": {},
   "outputs": [
    {
     "data": {
      "text/plain": [
       "range(0, 11)"
      ]
     },
     "execution_count": 53,
     "metadata": {},
     "output_type": "execute_result"
    }
   ],
   "source": [
    "r = range(0, 11)\n",
    "r"
   ]
  },
  {
   "cell_type": "code",
   "execution_count": 54,
   "id": "72e6877e",
   "metadata": {},
   "outputs": [
    {
     "data": {
      "text/plain": [
       "range"
      ]
     },
     "execution_count": 54,
     "metadata": {},
     "output_type": "execute_result"
    }
   ],
   "source": [
    "type(r)"
   ]
  },
  {
   "cell_type": "code",
   "execution_count": 55,
   "id": "228b85af",
   "metadata": {},
   "outputs": [
    {
     "data": {
      "text/plain": [
       "[0, 1, 2, 3, 4, 5, 6, 7, 8, 9, 10]"
      ]
     },
     "execution_count": 55,
     "metadata": {},
     "output_type": "execute_result"
    }
   ],
   "source": [
    "list(r)                              # included 0 and excluded 11"
   ]
  },
  {
   "cell_type": "code",
   "execution_count": 56,
   "id": "8bc6c1dd",
   "metadata": {},
   "outputs": [
    {
     "data": {
      "text/plain": [
       "(0, 1, 2, 3, 4, 5, 6, 7, 8, 9, 10)"
      ]
     },
     "execution_count": 56,
     "metadata": {},
     "output_type": "execute_result"
    }
   ],
   "source": [
    "tuple(r)                            # observe brackets"
   ]
  },
  {
   "cell_type": "code",
   "execution_count": 57,
   "id": "a66765dc",
   "metadata": {},
   "outputs": [
    {
     "data": {
      "text/plain": [
       "(0, 1, 2, 3, 4, 5, 6, 7, 8, 9, 10)"
      ]
     },
     "execution_count": 57,
     "metadata": {},
     "output_type": "execute_result"
    }
   ],
   "source": [
    "x = tuple(r)\n",
    "x"
   ]
  },
  {
   "cell_type": "code",
   "execution_count": 58,
   "id": "5a907d4c",
   "metadata": {},
   "outputs": [
    {
     "data": {
      "text/plain": [
       "tuple"
      ]
     },
     "execution_count": 58,
     "metadata": {},
     "output_type": "execute_result"
    }
   ],
   "source": [
    "type(x)"
   ]
  },
  {
   "cell_type": "code",
   "execution_count": 59,
   "id": "a796290f",
   "metadata": {},
   "outputs": [
    {
     "data": {
      "text/plain": [
       "[0, 1, 2, 3, 4, 5, 6, 7, 8, 9, 10, 11, 12, 13, 14]"
      ]
     },
     "execution_count": 59,
     "metadata": {},
     "output_type": "execute_result"
    }
   ],
   "source": [
    "r1 = list(range(15))\n",
    "r1"
   ]
  },
  {
   "cell_type": "code",
   "execution_count": 60,
   "id": "64c7abf4",
   "metadata": {},
   "outputs": [
    {
     "data": {
      "text/plain": [
       "[2, 3, 4, 5, 6, 7, 8]"
      ]
     },
     "execution_count": 60,
     "metadata": {},
     "output_type": "execute_result"
    }
   ],
   "source": [
    "r2 = list(range(2,9))               # begin with 2\n",
    "r2"
   ]
  },
  {
   "cell_type": "code",
   "execution_count": 61,
   "id": "c96b5a41",
   "metadata": {},
   "outputs": [
    {
     "data": {
      "text/plain": [
       "[2, 11, 20]"
      ]
     },
     "execution_count": 61,
     "metadata": {},
     "output_type": "execute_result"
    }
   ],
   "source": [
    "r3 = list(range(2,21,9))           # begin with 2, gap of 9, till 21\n",
    "r3"
   ]
  },
  {
   "cell_type": "markdown",
   "id": "b8d873eb",
   "metadata": {},
   "source": [
    "## 8] Random number"
   ]
  },
  {
   "cell_type": "code",
   "execution_count": 62,
   "id": "34bda7c1",
   "metadata": {},
   "outputs": [],
   "source": [
    "import numpy as np"
   ]
  },
  {
   "cell_type": "code",
   "execution_count": 63,
   "id": "a8f1d76f",
   "metadata": {},
   "outputs": [
    {
     "data": {
      "text/plain": [
       "11"
      ]
     },
     "execution_count": 63,
     "metadata": {},
     "output_type": "execute_result"
    }
   ],
   "source": [
    "x = np.random.randint(10,30)\n",
    "x"
   ]
  },
  {
   "cell_type": "code",
   "execution_count": 64,
   "id": "cd0922f1",
   "metadata": {},
   "outputs": [
    {
     "data": {
      "text/plain": [
       "array([22, 29, 11, 17])"
      ]
     },
     "execution_count": 64,
     "metadata": {},
     "output_type": "execute_result"
    }
   ],
   "source": [
    "x = np.random.randint(10,30,4)       # upto 4 numbers\n",
    "x                                    # include 10 and 30"
   ]
  },
  {
   "cell_type": "markdown",
   "id": "084b051b",
   "metadata": {},
   "source": [
    "## 9] Sets\n",
    "- unique collection of immutable items/obects\n",
    "- syntax: {}"
   ]
  },
  {
   "cell_type": "code",
   "execution_count": 65,
   "id": "c3bd79cd",
   "metadata": {},
   "outputs": [
    {
     "data": {
      "text/plain": [
       "{'ant', 'moon', 'star'}"
      ]
     },
     "execution_count": 65,
     "metadata": {},
     "output_type": "execute_result"
    }
   ],
   "source": [
    "a = {'ant', 'star','moon', 'ant'}    # hold only unique items\n",
    "a                                    "
   ]
  },
  {
   "cell_type": "code",
   "execution_count": 66,
   "id": "9e1e20cd",
   "metadata": {},
   "outputs": [
    {
     "data": {
      "text/plain": [
       "{'cat', 'lion', 'tiger'}"
      ]
     },
     "execution_count": 66,
     "metadata": {},
     "output_type": "execute_result"
    }
   ],
   "source": [
    "b = {'lion', 'tiger', 'cat'}\n",
    "b"
   ]
  },
  {
   "cell_type": "code",
   "execution_count": 67,
   "id": "cbd1e386",
   "metadata": {},
   "outputs": [
    {
     "data": {
      "text/plain": [
       "{'ant', 'cat', 'lion', 'moon', 'star', 'tiger'}"
      ]
     },
     "execution_count": 67,
     "metadata": {},
     "output_type": "execute_result"
    }
   ],
   "source": [
    "a.union(b)                           # union of two sets comes in oderly manner"
   ]
  },
  {
   "cell_type": "markdown",
   "id": "d8ffbc36",
   "metadata": {},
   "source": [
    "# Exercise"
   ]
  },
  {
   "cell_type": "code",
   "execution_count": 68,
   "id": "cf60fa6d",
   "metadata": {},
   "outputs": [
    {
     "data": {
      "text/plain": [
       "[1, 3, 5, 7, 9]"
      ]
     },
     "execution_count": 68,
     "metadata": {},
     "output_type": "execute_result"
    }
   ],
   "source": [
    "r = list(range(1,10,2))             # 2 here gives odd number\n",
    "r"
   ]
  }
 ],
 "metadata": {
  "kernelspec": {
   "display_name": "Python 3 (ipykernel)",
   "language": "python",
   "name": "python3"
  },
  "language_info": {
   "codemirror_mode": {
    "name": "ipython",
    "version": 3
   },
   "file_extension": ".py",
   "mimetype": "text/x-python",
   "name": "python",
   "nbconvert_exporter": "python",
   "pygments_lexer": "ipython3",
   "version": "3.9.12"
  }
 },
 "nbformat": 4,
 "nbformat_minor": 5
}
