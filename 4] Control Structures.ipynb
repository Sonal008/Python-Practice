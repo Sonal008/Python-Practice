{
 "cells": [
  {
   "cell_type": "markdown",
   "id": "4558e6fc",
   "metadata": {},
   "source": [
    "## 1] Control structure\n",
    "- Input(user input)"
   ]
  },
  {
   "cell_type": "code",
   "execution_count": 1,
   "id": "8faaf157",
   "metadata": {},
   "outputs": [
    {
     "name": "stdout",
     "output_type": "stream",
     "text": [
      "Enter the current score: 10\n"
     ]
    }
   ],
   "source": [
    "score = input('Enter the current score: ')    #* shows kernel is busy\n",
    "# by default 'input' takes statement as string "
   ]
  },
  {
   "cell_type": "code",
   "execution_count": 2,
   "id": "36b8e87b",
   "metadata": {},
   "outputs": [],
   "source": [
    "x = 20"
   ]
  },
  {
   "cell_type": "code",
   "execution_count": 3,
   "id": "a7ffb1b7",
   "metadata": {},
   "outputs": [
    {
     "data": {
      "text/plain": [
       "20"
      ]
     },
     "execution_count": 3,
     "metadata": {},
     "output_type": "execute_result"
    }
   ],
   "source": [
    "x   #integer value"
   ]
  },
  {
   "cell_type": "code",
   "execution_count": 4,
   "id": "98f93477",
   "metadata": {
    "scrolled": true
   },
   "outputs": [
    {
     "data": {
      "text/plain": [
       "'10'"
      ]
     },
     "execution_count": 4,
     "metadata": {},
     "output_type": "execute_result"
    }
   ],
   "source": [
    "score     #string value"
   ]
  },
  {
   "cell_type": "code",
   "execution_count": 5,
   "id": "72d9d545",
   "metadata": {},
   "outputs": [
    {
     "data": {
      "text/plain": [
       "str"
      ]
     },
     "execution_count": 5,
     "metadata": {},
     "output_type": "execute_result"
    }
   ],
   "source": [
    "type(score)"
   ]
  },
  {
   "cell_type": "code",
   "execution_count": 6,
   "id": "981f3a30",
   "metadata": {},
   "outputs": [
    {
     "name": "stdout",
     "output_type": "stream",
     "text": [
      "Enter the current score: 10\n"
     ]
    }
   ],
   "source": [
    "score = int(input('Enter the current score: '))\n",
    "# making it integer"
   ]
  },
  {
   "cell_type": "code",
   "execution_count": 7,
   "id": "033740fb",
   "metadata": {},
   "outputs": [
    {
     "data": {
      "text/plain": [
       "10"
      ]
     },
     "execution_count": 7,
     "metadata": {},
     "output_type": "execute_result"
    }
   ],
   "source": [
    "score   #integer value"
   ]
  },
  {
   "cell_type": "code",
   "execution_count": 8,
   "id": "2c9348bf",
   "metadata": {},
   "outputs": [
    {
     "data": {
      "text/plain": [
       "int"
      ]
     },
     "execution_count": 8,
     "metadata": {},
     "output_type": "execute_result"
    }
   ],
   "source": [
    "type(score)"
   ]
  },
  {
   "cell_type": "markdown",
   "id": "12a727f4",
   "metadata": {},
   "source": [
    "## 2] Conditional statements\n",
    "- if else\n",
    "- if\n",
    "- elif - multiple conditions"
   ]
  },
  {
   "cell_type": "code",
   "execution_count": 9,
   "id": "4419145a",
   "metadata": {},
   "outputs": [
    {
     "name": "stdout",
     "output_type": "stream",
     "text": [
      "Enter any number: 0\n"
     ]
    }
   ],
   "source": [
    "number = int(input('Enter any number: '))"
   ]
  },
  {
   "cell_type": "code",
   "execution_count": 10,
   "id": "78fef62b",
   "metadata": {},
   "outputs": [
    {
     "name": "stdout",
     "output_type": "stream",
     "text": [
      "User has entered a positive number:  0\n"
     ]
    }
   ],
   "source": [
    "if number >= 0:\n",
    "    print('User has entered a positive number: ', number)\n",
    "    \n",
    "#only if condition given"
   ]
  },
  {
   "cell_type": "code",
   "execution_count": 11,
   "id": "56159bef",
   "metadata": {},
   "outputs": [
    {
     "name": "stdout",
     "output_type": "stream",
     "text": [
      "User has entered a positive number:  0\n"
     ]
    }
   ],
   "source": [
    "if number >= 0:\n",
    "    print('User has entered a positive number: ', number)\n",
    "else:\n",
    "    print('User has entered negative number: ', number)\n",
    "    \n",
    "#both condition given"
   ]
  },
  {
   "cell_type": "code",
   "execution_count": 12,
   "id": "b043a985",
   "metadata": {},
   "outputs": [
    {
     "name": "stdout",
     "output_type": "stream",
     "text": [
      "User has entered 0\n"
     ]
    }
   ],
   "source": [
    "if number > 0:\n",
    "    print('User has entered a positive number: ', number)\n",
    "elif number == 0:\n",
    "    print('User has entered 0')\n",
    "else:\n",
    "    print('User has entered negative number: ', number)"
   ]
  },
  {
   "cell_type": "markdown",
   "id": "1e14c67e",
   "metadata": {},
   "source": [
    "## 3] Looping statements:\n",
    "- while\n",
    "- for loop\n",
    "- looping over all datatypes"
   ]
  },
  {
   "cell_type": "markdown",
   "id": "663d7fde",
   "metadata": {},
   "source": [
    "## 3.1] while"
   ]
  },
  {
   "cell_type": "code",
   "execution_count": 13,
   "id": "47242ef5",
   "metadata": {},
   "outputs": [
    {
     "name": "stdout",
     "output_type": "stream",
     "text": [
      "1\n",
      "2\n",
      "3\n",
      "4\n",
      "5\n",
      "6\n",
      "7\n",
      "8\n",
      "9\n",
      "10\n"
     ]
    }
   ],
   "source": [
    "index = 1\n",
    "while index <= 10:\n",
    "    print(index)\n",
    "    index = index+1\n",
    "    #index +=1    #same as above"
   ]
  },
  {
   "cell_type": "code",
   "execution_count": 14,
   "id": "5b098f2d",
   "metadata": {},
   "outputs": [
    {
     "name": "stdout",
     "output_type": "stream",
     "text": [
      "1\n",
      "3\n",
      "5\n",
      "7\n",
      "9\n"
     ]
    }
   ],
   "source": [
    "#odd numbers\n",
    "\n",
    "index = 1\n",
    "while index <= 10:\n",
    "    print(index)\n",
    "    index = index+2\n",
    "    #index +=2    #same as above"
   ]
  },
  {
   "cell_type": "code",
   "execution_count": 15,
   "id": "dbe8e015",
   "metadata": {},
   "outputs": [
    {
     "data": {
      "text/plain": [
       "[1, 3, 5, 7, 9]"
      ]
     },
     "execution_count": 15,
     "metadata": {},
     "output_type": "execute_result"
    }
   ],
   "source": [
    "r = list(range(1,10,2))\n",
    "r"
   ]
  },
  {
   "cell_type": "markdown",
   "id": "f8ad4c48",
   "metadata": {},
   "source": [
    "## 3.2] for"
   ]
  },
  {
   "cell_type": "code",
   "execution_count": 16,
   "id": "7af79771",
   "metadata": {},
   "outputs": [
    {
     "name": "stdout",
     "output_type": "stream",
     "text": [
      "1\n",
      "3\n",
      "5\n",
      "7\n",
      "9\n"
     ]
    }
   ],
   "source": [
    "for num in r:\n",
    "    print(num)"
   ]
  },
  {
   "cell_type": "code",
   "execution_count": 17,
   "id": "72732f3c",
   "metadata": {},
   "outputs": [
    {
     "name": "stdout",
     "output_type": "stream",
     "text": [
      "['amazon', 'flipkart', 'snapdeal', 'myntra']\n"
     ]
    }
   ],
   "source": [
    "comName =['amazon','flipkart','snapdeal','myntra']\n",
    "print(comName)"
   ]
  },
  {
   "cell_type": "code",
   "execution_count": 18,
   "id": "d7827405",
   "metadata": {},
   "outputs": [
    {
     "name": "stdout",
     "output_type": "stream",
     "text": [
      "www.amazon.com\n",
      "www.flipkart.com\n",
      "www.snapdeal.com\n",
      "www.myntra.com\n"
     ]
    }
   ],
   "source": [
    "##convert names to websites\n",
    "\n",
    "for name in comName:\n",
    "    print('www.' +name+'.com')       #concat"
   ]
  },
  {
   "cell_type": "code",
   "execution_count": 19,
   "id": "66311f31",
   "metadata": {},
   "outputs": [
    {
     "data": {
      "text/plain": [
       "['www.amazon.com', 'www.flipkart.com', 'www.snapdeal.com', 'www.myntra.com']"
      ]
     },
     "execution_count": 19,
     "metadata": {},
     "output_type": "execute_result"
    }
   ],
   "source": [
    "##convert names to websites\n",
    "\n",
    "websites = []                        #empty list\n",
    "\n",
    "for name in comName:                 #name is temp variable-iterator\n",
    "    name = 'www.' +name+'.com'       #concat and assign object\n",
    "    websites.append(name)            \n",
    "    \n",
    "websites"
   ]
  },
  {
   "cell_type": "code",
   "execution_count": 20,
   "id": "eba902de",
   "metadata": {},
   "outputs": [
    {
     "data": {
      "text/plain": [
       "{'name': 'Virat', 'age': '30', 'team': 'RCB'}"
      ]
     },
     "execution_count": 20,
     "metadata": {},
     "output_type": "execute_result"
    }
   ],
   "source": [
    "vk={'name':'Virat', 'age' :'30', 'team':'RCB'}\n",
    "vk"
   ]
  },
  {
   "cell_type": "code",
   "execution_count": 21,
   "id": "c02acd2b",
   "metadata": {},
   "outputs": [
    {
     "name": "stdout",
     "output_type": "stream",
     "text": [
      "name\n",
      "age\n",
      "team\n"
     ]
    }
   ],
   "source": [
    "#iterate dictionary \n",
    "\n",
    "for i in vk:    #bydefault gives keys\n",
    "    print(i)"
   ]
  },
  {
   "cell_type": "code",
   "execution_count": 22,
   "id": "bba3ab2d",
   "metadata": {},
   "outputs": [
    {
     "name": "stdout",
     "output_type": "stream",
     "text": [
      "Virat\n",
      "30\n",
      "RCB\n"
     ]
    }
   ],
   "source": [
    "#iterate dictionary \n",
    "\n",
    "for i in vk.values():    #for values\n",
    "    print(i)"
   ]
  },
  {
   "cell_type": "code",
   "execution_count": 23,
   "id": "829b5142",
   "metadata": {},
   "outputs": [
    {
     "name": "stdout",
     "output_type": "stream",
     "text": [
      "('name', 'Virat')\n",
      "('age', '30')\n",
      "('team', 'RCB')\n"
     ]
    }
   ],
   "source": [
    "#iterate dictionary \n",
    "\n",
    "for i in vk.items():    #both  value and keys\n",
    "    print(i)\n",
    "    \n",
    "#bydefault it gives in tuple"
   ]
  },
  {
   "cell_type": "code",
   "execution_count": 24,
   "id": "7eb5fac2",
   "metadata": {},
   "outputs": [
    {
     "name": "stdout",
     "output_type": "stream",
     "text": [
      "name Virat\n",
      "age 30\n",
      "team RCB\n"
     ]
    }
   ],
   "source": [
    "#iterate dictionary \n",
    "\n",
    "for i, j in vk.items():    #multiple iterator\n",
    "    print(i,j)\n",
    "    \n",
    "#bydefault it gives in tuple"
   ]
  },
  {
   "cell_type": "code",
   "execution_count": 25,
   "id": "b2142387",
   "metadata": {},
   "outputs": [
    {
     "name": "stdout",
     "output_type": "stream",
     "text": [
      "0 name\n",
      "1 age\n",
      "2 team\n"
     ]
    }
   ],
   "source": [
    "#iterate dictionary \n",
    "\n",
    "for i, j in enumerate(vk):    #enumerate print index values too\n",
    "    print(i,j)\n",
    "    \n",
    "#bydefault it gives in tuple"
   ]
  },
  {
   "cell_type": "markdown",
   "id": "e32a7d44",
   "metadata": {},
   "source": [
    "## 4] Break statement "
   ]
  },
  {
   "cell_type": "code",
   "execution_count": 26,
   "id": "4b84ef31",
   "metadata": {},
   "outputs": [
    {
     "name": "stdout",
     "output_type": "stream",
     "text": [
      "1\n",
      "2\n",
      "3\n",
      "4\n",
      "5\n"
     ]
    }
   ],
   "source": [
    "for i in range(1,11):\n",
    "    print(i)\n",
    "    if i ==5:\n",
    "        break        #stops once conditon satisfy"
   ]
  },
  {
   "cell_type": "markdown",
   "id": "7e798a22",
   "metadata": {},
   "source": [
    "## 5] Continue statement"
   ]
  },
  {
   "cell_type": "code",
   "execution_count": 27,
   "id": "4a456740",
   "metadata": {},
   "outputs": [
    {
     "name": "stdout",
     "output_type": "stream",
     "text": [
      "2\n",
      "4\n",
      "6\n",
      "8\n",
      "10\n"
     ]
    }
   ],
   "source": [
    "for i in range(1,11):\n",
    "    if i%2 == 0:            #even numbers\n",
    "        print(i)"
   ]
  },
  {
   "cell_type": "code",
   "execution_count": 28,
   "id": "3cbe4077",
   "metadata": {},
   "outputs": [
    {
     "name": "stdout",
     "output_type": "stream",
     "text": [
      "1\n",
      "3\n",
      "5\n",
      "7\n",
      "9\n"
     ]
    }
   ],
   "source": [
    "for i in range(1,11):\n",
    "    if i%2 == 0:            #odd number\n",
    "        continue            # condition true- continue\n",
    "    print(i)                # condition false- print"
   ]
  },
  {
   "cell_type": "markdown",
   "id": "a1611bd3",
   "metadata": {},
   "source": [
    "## 6] Pass statement"
   ]
  },
  {
   "cell_type": "code",
   "execution_count": 29,
   "id": "f6303ecc",
   "metadata": {},
   "outputs": [
    {
     "ename": "IndentationError",
     "evalue": "expected an indented block (3360398912.py, line 1)",
     "output_type": "error",
     "traceback": [
      "\u001b[1;36m  Input \u001b[1;32mIn [29]\u001b[1;36m\u001b[0m\n\u001b[1;33m    for i in range(1,11):\u001b[0m\n\u001b[1;37m                           ^\u001b[0m\n\u001b[1;31mIndentationError\u001b[0m\u001b[1;31m:\u001b[0m expected an indented block\n"
     ]
    }
   ],
   "source": [
    "for i in range(1,11):  "
   ]
  },
  {
   "cell_type": "code",
   "execution_count": 30,
   "id": "177485e6",
   "metadata": {},
   "outputs": [],
   "source": [
    "for i in range(1,11):\n",
    "    pass"
   ]
  },
  {
   "cell_type": "markdown",
   "id": "84609e5f",
   "metadata": {},
   "source": [
    "## Excercise \n",
    "- Take an input from user and print teh reverse of the number\n",
    "- input = 123\n",
    "- output =321"
   ]
  },
  {
   "cell_type": "code",
   "execution_count": 32,
   "id": "ebef986b",
   "metadata": {},
   "outputs": [
    {
     "name": "stdout",
     "output_type": "stream",
     "text": [
      "number: 123\n",
      "reverse:  321\n"
     ]
    }
   ],
   "source": [
    "num = input('number: ', )\n",
    "print('reverse: ',num[::-1])"
   ]
  },
  {
   "cell_type": "code",
   "execution_count": 33,
   "id": "f20f5b2f",
   "metadata": {},
   "outputs": [
    {
     "name": "stdout",
     "output_type": "stream",
     "text": [
      "number: 24763\n",
      "reverse:  36742\n"
     ]
    }
   ],
   "source": [
    "num = input('number: ', )\n",
    "print('reverse: ',num[::-1])"
   ]
  },
  {
   "cell_type": "code",
   "execution_count": 34,
   "id": "45d46397",
   "metadata": {},
   "outputs": [],
   "source": [
    "#write a program to get sum of all the elements inside list \n",
    "#numbers can be 1,2,3\n",
    "#output = 6"
   ]
  },
  {
   "cell_type": "code",
   "execution_count": 35,
   "id": "b29e12b4",
   "metadata": {},
   "outputs": [
    {
     "data": {
      "text/plain": [
       "6"
      ]
     },
     "execution_count": 35,
     "metadata": {},
     "output_type": "execute_result"
    }
   ],
   "source": [
    "num= [1,2,3]\n",
    "sum(num)"
   ]
  },
  {
   "cell_type": "code",
   "execution_count": 36,
   "id": "9782ea4e",
   "metadata": {},
   "outputs": [
    {
     "name": "stdout",
     "output_type": "stream",
     "text": [
      "6\n"
     ]
    }
   ],
   "source": [
    "result = 0\n",
    "for i in num:\n",
    "    result +=i\n",
    "print(result)"
   ]
  }
 ],
 "metadata": {
  "kernelspec": {
   "display_name": "Python 3 (ipykernel)",
   "language": "python",
   "name": "python3"
  },
  "language_info": {
   "codemirror_mode": {
    "name": "ipython",
    "version": 3
   },
   "file_extension": ".py",
   "mimetype": "text/x-python",
   "name": "python",
   "nbconvert_exporter": "python",
   "pygments_lexer": "ipython3",
   "version": "3.9.12"
  }
 },
 "nbformat": 4,
 "nbformat_minor": 5
}
