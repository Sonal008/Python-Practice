{
 "cells": [
  {
   "cell_type": "markdown",
   "id": "c544b6b5",
   "metadata": {},
   "source": [
    "# Introduction to Datatypes"
   ]
  },
  {
   "cell_type": "markdown",
   "id": "33e2264d",
   "metadata": {},
   "source": [
    "## 1] integer"
   ]
  },
  {
   "cell_type": "code",
   "execution_count": 1,
   "id": "9990b186",
   "metadata": {},
   "outputs": [],
   "source": [
    "a = 10               # a= object"
   ]
  },
  {
   "cell_type": "code",
   "execution_count": 2,
   "id": "ff491bae",
   "metadata": {},
   "outputs": [
    {
     "data": {
      "text/plain": [
       "int"
      ]
     },
     "execution_count": 2,
     "metadata": {},
     "output_type": "execute_result"
    }
   ],
   "source": [
    "type(a)"
   ]
  },
  {
   "cell_type": "code",
   "execution_count": 3,
   "id": "92365a9a",
   "metadata": {},
   "outputs": [
    {
     "data": {
      "text/plain": [
       "1906412644944"
      ]
     },
     "execution_count": 3,
     "metadata": {},
     "output_type": "execute_result"
    }
   ],
   "source": [
    "id(a)                #location of object"
   ]
  },
  {
   "cell_type": "markdown",
   "id": "56b31b09",
   "metadata": {},
   "source": [
    "##### object of type 'int' has no len() function"
   ]
  },
  {
   "cell_type": "markdown",
   "id": "06b7ff0a",
   "metadata": {},
   "source": [
    " ## 2] string "
   ]
  },
  {
   "cell_type": "markdown",
   "id": "fb849449",
   "metadata": {},
   "source": [
    "- immutable\n",
    "- defined by single or double quote\n",
    "- collection of characters"
   ]
  },
  {
   "cell_type": "code",
   "execution_count": 4,
   "id": "b4c1b96c",
   "metadata": {},
   "outputs": [],
   "source": [
    "a= 'SONAL'"
   ]
  },
  {
   "cell_type": "code",
   "execution_count": 5,
   "id": "f71e6630",
   "metadata": {},
   "outputs": [
    {
     "data": {
      "text/plain": [
       "'SONAL'"
      ]
     },
     "execution_count": 5,
     "metadata": {},
     "output_type": "execute_result"
    }
   ],
   "source": [
    "a"
   ]
  },
  {
   "cell_type": "code",
   "execution_count": 6,
   "id": "82c162b5",
   "metadata": {},
   "outputs": [
    {
     "data": {
      "text/plain": [
       "str"
      ]
     },
     "execution_count": 6,
     "metadata": {},
     "output_type": "execute_result"
    }
   ],
   "source": [
    "type(a)"
   ]
  },
  {
   "cell_type": "code",
   "execution_count": 7,
   "id": "ac6167a2",
   "metadata": {},
   "outputs": [
    {
     "data": {
      "text/plain": [
       "5"
      ]
     },
     "execution_count": 7,
     "metadata": {},
     "output_type": "execute_result"
    }
   ],
   "source": [
    "len(a)"
   ]
  },
  {
   "cell_type": "markdown",
   "id": "5a5f7c64",
   "metadata": {},
   "source": [
    "##### len => string, tuple, list"
   ]
  },
  {
   "cell_type": "markdown",
   "id": "f2575192",
   "metadata": {},
   "source": [
    "## 3] Indexing"
   ]
  },
  {
   "cell_type": "code",
   "execution_count": 8,
   "id": "1234fe7f",
   "metadata": {},
   "outputs": [
    {
     "name": "stdout",
     "output_type": "stream",
     "text": [
      "<class 'str'>\n"
     ]
    }
   ],
   "source": [
    "print(type(a))"
   ]
  },
  {
   "cell_type": "code",
   "execution_count": 9,
   "id": "e519f12f",
   "metadata": {},
   "outputs": [
    {
     "data": {
      "text/plain": [
       "'SONAL'"
      ]
     },
     "execution_count": 9,
     "metadata": {},
     "output_type": "execute_result"
    }
   ],
   "source": [
    "a"
   ]
  },
  {
   "cell_type": "markdown",
   "id": "67ec9731",
   "metadata": {},
   "source": [
    "## 3.1] Positive indexing"
   ]
  },
  {
   "cell_type": "code",
   "execution_count": 10,
   "id": "77d69b80",
   "metadata": {},
   "outputs": [
    {
     "data": {
      "text/plain": [
       "'S'"
      ]
     },
     "execution_count": 10,
     "metadata": {},
     "output_type": "execute_result"
    }
   ],
   "source": [
    "a[0]"
   ]
  },
  {
   "cell_type": "code",
   "execution_count": 11,
   "id": "4da975b0",
   "metadata": {},
   "outputs": [
    {
     "data": {
      "text/plain": [
       "'A'"
      ]
     },
     "execution_count": 11,
     "metadata": {},
     "output_type": "execute_result"
    }
   ],
   "source": [
    "a[3]"
   ]
  },
  {
   "cell_type": "code",
   "execution_count": 12,
   "id": "c3f88fc2",
   "metadata": {},
   "outputs": [
    {
     "ename": "IndexError",
     "evalue": "string index out of range",
     "output_type": "error",
     "traceback": [
      "\u001b[1;31m---------------------------------------------------------------------------\u001b[0m",
      "\u001b[1;31mIndexError\u001b[0m                                Traceback (most recent call last)",
      "Input \u001b[1;32mIn [12]\u001b[0m, in \u001b[0;36m<cell line: 1>\u001b[1;34m()\u001b[0m\n\u001b[1;32m----> 1\u001b[0m \u001b[43ma\u001b[49m\u001b[43m[\u001b[49m\u001b[38;5;241;43m6\u001b[39;49m\u001b[43m]\u001b[49m\n",
      "\u001b[1;31mIndexError\u001b[0m: string index out of range"
     ]
    }
   ],
   "source": [
    "a[6]"
   ]
  },
  {
   "cell_type": "markdown",
   "id": "08694c3b",
   "metadata": {},
   "source": [
    "## 3.2] Negative indexing"
   ]
  },
  {
   "cell_type": "code",
   "execution_count": 13,
   "id": "4df83a86",
   "metadata": {},
   "outputs": [
    {
     "data": {
      "text/plain": [
       "'L'"
      ]
     },
     "execution_count": 13,
     "metadata": {},
     "output_type": "execute_result"
    }
   ],
   "source": [
    "a[-1]"
   ]
  },
  {
   "cell_type": "code",
   "execution_count": 14,
   "id": "38a054a9",
   "metadata": {},
   "outputs": [
    {
     "data": {
      "text/plain": [
       "'N'"
      ]
     },
     "execution_count": 14,
     "metadata": {},
     "output_type": "execute_result"
    }
   ],
   "source": [
    "a[-3]"
   ]
  },
  {
   "cell_type": "markdown",
   "id": "fc1a994d",
   "metadata": {},
   "source": [
    "## 4] Slicing\n",
    "- extracts a substring from a string\n",
    "- syntax: startpos: endpos:skip cunt/Direction\n",
    "- startpos- included, endpos- excluded"
   ]
  },
  {
   "cell_type": "code",
   "execution_count": 15,
   "id": "c2f991c8",
   "metadata": {},
   "outputs": [
    {
     "data": {
      "text/plain": [
       "'SONAL'"
      ]
     },
     "execution_count": 15,
     "metadata": {},
     "output_type": "execute_result"
    }
   ],
   "source": [
    "a"
   ]
  },
  {
   "cell_type": "code",
   "execution_count": 16,
   "id": "e8fd3c1e",
   "metadata": {},
   "outputs": [
    {
     "data": {
      "text/plain": [
       "'SON'"
      ]
     },
     "execution_count": 16,
     "metadata": {},
     "output_type": "execute_result"
    }
   ],
   "source": [
    "a[0:3]              #0,1,2 - endposition excluded"
   ]
  },
  {
   "cell_type": "code",
   "execution_count": 17,
   "id": "277ffa7c",
   "metadata": {},
   "outputs": [
    {
     "data": {
      "text/plain": [
       "'ONA'"
      ]
     },
     "execution_count": 17,
     "metadata": {},
     "output_type": "execute_result"
    }
   ],
   "source": [
    "a[1:4]              #1,2,3"
   ]
  },
  {
   "cell_type": "code",
   "execution_count": 18,
   "id": "5a91d361",
   "metadata": {},
   "outputs": [
    {
     "data": {
      "text/plain": [
       "'NAL'"
      ]
     },
     "execution_count": 18,
     "metadata": {},
     "output_type": "execute_result"
    }
   ],
   "source": [
    "a[2:6]              #6 is not present but still gives till end"
   ]
  },
  {
   "cell_type": "code",
   "execution_count": 19,
   "id": "2a3aa89f",
   "metadata": {},
   "outputs": [
    {
     "data": {
      "text/plain": [
       "'SON'"
      ]
     },
     "execution_count": 19,
     "metadata": {},
     "output_type": "execute_result"
    }
   ],
   "source": [
    "a[:3]               #no initial given, by defualt it starts from 0"
   ]
  },
  {
   "cell_type": "code",
   "execution_count": 20,
   "id": "5d1bf3a5",
   "metadata": {},
   "outputs": [
    {
     "data": {
      "text/plain": [
       "'SONAL'"
      ]
     },
     "execution_count": 20,
     "metadata": {},
     "output_type": "execute_result"
    }
   ],
   "source": [
    "a[:]                #entire"
   ]
  },
  {
   "cell_type": "code",
   "execution_count": 21,
   "id": "553172b2",
   "metadata": {},
   "outputs": [
    {
     "data": {
      "text/plain": [
       "'N'"
      ]
     },
     "execution_count": 21,
     "metadata": {},
     "output_type": "execute_result"
    }
   ],
   "source": [
    "a[2:-2]"
   ]
  },
  {
   "cell_type": "code",
   "execution_count": 22,
   "id": "c25a11dd",
   "metadata": {},
   "outputs": [
    {
     "data": {
      "text/plain": [
       "'NA'"
      ]
     },
     "execution_count": 22,
     "metadata": {},
     "output_type": "execute_result"
    }
   ],
   "source": [
    "a[-3:-1]"
   ]
  },
  {
   "cell_type": "code",
   "execution_count": 23,
   "id": "de4531e3",
   "metadata": {},
   "outputs": [
    {
     "data": {
      "text/plain": [
       "'SNL'"
      ]
     },
     "execution_count": 23,
     "metadata": {},
     "output_type": "execute_result"
    }
   ],
   "source": [
    "a[::2]              #alternate"
   ]
  },
  {
   "cell_type": "code",
   "execution_count": 24,
   "id": "f69940da",
   "metadata": {},
   "outputs": [
    {
     "data": {
      "text/plain": [
       "'LNS'"
      ]
     },
     "execution_count": 24,
     "metadata": {},
     "output_type": "execute_result"
    }
   ],
   "source": [
    "a[::-2]            #alternate reverse"
   ]
  },
  {
   "cell_type": "code",
   "execution_count": 32,
   "id": "01abfd90",
   "metadata": {},
   "outputs": [
    {
     "data": {
      "text/plain": [
       "'O'"
      ]
     },
     "execution_count": 32,
     "metadata": {},
     "output_type": "execute_result"
    }
   ],
   "source": [
    "a[1:2:3]"
   ]
  },
  {
   "cell_type": "code",
   "execution_count": 26,
   "id": "da0e24e4",
   "metadata": {},
   "outputs": [
    {
     "data": {
      "text/plain": [
       "'SONAA'"
      ]
     },
     "execution_count": 26,
     "metadata": {},
     "output_type": "execute_result"
    }
   ],
   "source": [
    "a.replace('L','A')"
   ]
  },
  {
   "cell_type": "code",
   "execution_count": 27,
   "id": "b6de9c93",
   "metadata": {},
   "outputs": [
    {
     "data": {
      "text/plain": [
       "'SONAL'"
      ]
     },
     "execution_count": 27,
     "metadata": {},
     "output_type": "execute_result"
    }
   ],
   "source": [
    "a"
   ]
  },
  {
   "cell_type": "code",
   "execution_count": 28,
   "id": "8e8edfc2",
   "metadata": {},
   "outputs": [],
   "source": [
    "a= 'SONAL'"
   ]
  },
  {
   "cell_type": "code",
   "execution_count": 29,
   "id": "ed2ea63c",
   "metadata": {},
   "outputs": [
    {
     "data": {
      "text/plain": [
       "1"
      ]
     },
     "execution_count": 29,
     "metadata": {},
     "output_type": "execute_result"
    }
   ],
   "source": [
    "a.index('O')    #to find index"
   ]
  },
  {
   "cell_type": "code",
   "execution_count": 30,
   "id": "265a03d3",
   "metadata": {},
   "outputs": [
    {
     "ename": "TypeError",
     "evalue": "must be str, not list",
     "output_type": "error",
     "traceback": [
      "\u001b[1;31m---------------------------------------------------------------------------\u001b[0m",
      "\u001b[1;31mTypeError\u001b[0m                                 Traceback (most recent call last)",
      "Input \u001b[1;32mIn [30]\u001b[0m, in \u001b[0;36m<cell line: 1>\u001b[1;34m()\u001b[0m\n\u001b[1;32m----> 1\u001b[0m \u001b[43ma\u001b[49m\u001b[38;5;241;43m.\u001b[39;49m\u001b[43mindex\u001b[49m\u001b[43m(\u001b[49m\u001b[43m[\u001b[49m\u001b[38;5;124;43m'\u001b[39;49m\u001b[38;5;124;43mO\u001b[39;49m\u001b[38;5;124;43m'\u001b[39;49m\u001b[43m,\u001b[49m\u001b[43m \u001b[49m\u001b[38;5;124;43m'\u001b[39;49m\u001b[38;5;124;43mL\u001b[39;49m\u001b[38;5;124;43m'\u001b[39;49m\u001b[43m]\u001b[49m\u001b[43m)\u001b[49m\n",
      "\u001b[1;31mTypeError\u001b[0m: must be str, not list"
     ]
    }
   ],
   "source": [
    "a.index(['O', 'L'])  "
   ]
  },
  {
   "cell_type": "code",
   "execution_count": 31,
   "id": "c6f08ca3",
   "metadata": {},
   "outputs": [
    {
     "ename": "TypeError",
     "evalue": "replace expected at least 2 arguments, got 0",
     "output_type": "error",
     "traceback": [
      "\u001b[1;31m---------------------------------------------------------------------------\u001b[0m",
      "\u001b[1;31mTypeError\u001b[0m                                 Traceback (most recent call last)",
      "Input \u001b[1;32mIn [31]\u001b[0m, in \u001b[0;36m<cell line: 1>\u001b[1;34m()\u001b[0m\n\u001b[1;32m----> 1\u001b[0m \u001b[43ma\u001b[49m\u001b[38;5;241;43m.\u001b[39;49m\u001b[43mreplace\u001b[49m\u001b[43m(\u001b[49m\u001b[43m)\u001b[49m\n",
      "\u001b[1;31mTypeError\u001b[0m: replace expected at least 2 arguments, got 0"
     ]
    }
   ],
   "source": [
    "a.replace()"
   ]
  },
  {
   "cell_type": "code",
   "execution_count": 33,
   "id": "946cc3f8",
   "metadata": {},
   "outputs": [
    {
     "ename": "TypeError",
     "evalue": "can only concatenate str (not \"int\") to str",
     "output_type": "error",
     "traceback": [
      "\u001b[1;31m---------------------------------------------------------------------------\u001b[0m",
      "\u001b[1;31mTypeError\u001b[0m                                 Traceback (most recent call last)",
      "Input \u001b[1;32mIn [33]\u001b[0m, in \u001b[0;36m<cell line: 1>\u001b[1;34m()\u001b[0m\n\u001b[1;32m----> 1\u001b[0m \u001b[43ma\u001b[49m\u001b[38;5;241;43m+\u001b[39;49m\u001b[38;5;241;43m10\u001b[39;49m\n",
      "\u001b[1;31mTypeError\u001b[0m: can only concatenate str (not \"int\") to str"
     ]
    }
   ],
   "source": [
    "a+10"
   ]
  },
  {
   "cell_type": "code",
   "execution_count": 34,
   "id": "2eacc4e0",
   "metadata": {},
   "outputs": [],
   "source": [
    "t= 'SONAL'"
   ]
  },
  {
   "cell_type": "code",
   "execution_count": 35,
   "id": "fb4f9274",
   "metadata": {},
   "outputs": [
    {
     "data": {
      "text/plain": [
       "'SONALSONAL'"
      ]
     },
     "execution_count": 35,
     "metadata": {},
     "output_type": "execute_result"
    }
   ],
   "source": [
    "a+t   #string +string"
   ]
  },
  {
   "cell_type": "code",
   "execution_count": 36,
   "id": "296720fa",
   "metadata": {},
   "outputs": [
    {
     "data": {
      "text/plain": [
       "'SONALSONALSONAL'"
      ]
     },
     "execution_count": 36,
     "metadata": {},
     "output_type": "execute_result"
    }
   ],
   "source": [
    "a*3"
   ]
  },
  {
   "cell_type": "code",
   "execution_count": 37,
   "id": "ba5b5996",
   "metadata": {},
   "outputs": [
    {
     "data": {
      "text/plain": [
       "'SONAL10'"
      ]
     },
     "execution_count": 37,
     "metadata": {},
     "output_type": "execute_result"
    }
   ],
   "source": [
    "a + \"10\"   "
   ]
  },
  {
   "cell_type": "code",
   "execution_count": 38,
   "id": "b3e2bfb4",
   "metadata": {},
   "outputs": [
    {
     "data": {
      "text/plain": [
       "'SONAL 10'"
      ]
     },
     "execution_count": 38,
     "metadata": {},
     "output_type": "execute_result"
    }
   ],
   "source": [
    "a + \" 10\" "
   ]
  },
  {
   "cell_type": "markdown",
   "id": "9d8b7c1a",
   "metadata": {},
   "source": [
    "# Lists"
   ]
  },
  {
   "cell_type": "markdown",
   "id": "d315e566",
   "metadata": {},
   "source": [
    "- secodnary datatypes \n",
    "- ordered collection of objects/elements/items\n",
    "- mutable\n",
    "- SQUARE brackets"
   ]
  },
  {
   "cell_type": "code",
   "execution_count": 40,
   "id": "a40b8f4d",
   "metadata": {},
   "outputs": [],
   "source": [
    "languages = ['C','JAVA', 'PYTHON']"
   ]
  },
  {
   "cell_type": "code",
   "execution_count": 41,
   "id": "ecd4cb09",
   "metadata": {},
   "outputs": [
    {
     "data": {
      "text/plain": [
       "['C', 'JAVA', 'PYTHON']"
      ]
     },
     "execution_count": 41,
     "metadata": {},
     "output_type": "execute_result"
    }
   ],
   "source": [
    "languages"
   ]
  },
  {
   "cell_type": "code",
   "execution_count": 42,
   "id": "a47165cb",
   "metadata": {},
   "outputs": [
    {
     "name": "stdout",
     "output_type": "stream",
     "text": [
      "['C', 'JAVA', 'PYTHON']\n"
     ]
    }
   ],
   "source": [
    "print(languages)"
   ]
  },
  {
   "cell_type": "code",
   "execution_count": 43,
   "id": "c0d4094c",
   "metadata": {},
   "outputs": [
    {
     "data": {
      "text/plain": [
       "list"
      ]
     },
     "execution_count": 43,
     "metadata": {},
     "output_type": "execute_result"
    }
   ],
   "source": [
    "type(languages)"
   ]
  },
  {
   "cell_type": "code",
   "execution_count": 44,
   "id": "aa6a20c6",
   "metadata": {},
   "outputs": [
    {
     "data": {
      "text/plain": [
       "'PYTHON'"
      ]
     },
     "execution_count": 44,
     "metadata": {},
     "output_type": "execute_result"
    }
   ],
   "source": [
    "languages[2]"
   ]
  },
  {
   "cell_type": "code",
   "execution_count": 45,
   "id": "03e8d006",
   "metadata": {},
   "outputs": [
    {
     "data": {
      "text/plain": [
       "'PYTHON'"
      ]
     },
     "execution_count": 45,
     "metadata": {},
     "output_type": "execute_result"
    }
   ],
   "source": [
    "languages[-1]"
   ]
  },
  {
   "cell_type": "code",
   "execution_count": 46,
   "id": "87e4990f",
   "metadata": {},
   "outputs": [
    {
     "data": {
      "text/plain": [
       "['C', 'JAVA']"
      ]
     },
     "execution_count": 46,
     "metadata": {},
     "output_type": "execute_result"
    }
   ],
   "source": [
    "languages[:2]"
   ]
  },
  {
   "cell_type": "code",
   "execution_count": 47,
   "id": "e5164f39",
   "metadata": {},
   "outputs": [
    {
     "data": {
      "text/plain": [
       "1"
      ]
     },
     "execution_count": 47,
     "metadata": {},
     "output_type": "execute_result"
    }
   ],
   "source": [
    "languages.index('JAVA')"
   ]
  },
  {
   "cell_type": "code",
   "execution_count": 48,
   "id": "058ed9a4",
   "metadata": {},
   "outputs": [
    {
     "data": {
      "text/plain": [
       "'J'"
      ]
     },
     "execution_count": 48,
     "metadata": {},
     "output_type": "execute_result"
    }
   ],
   "source": [
    "languages[1][0]            #index 1st, 0th position element"
   ]
  },
  {
   "cell_type": "code",
   "execution_count": 49,
   "id": "329c8770",
   "metadata": {},
   "outputs": [
    {
     "data": {
      "text/plain": [
       "'PYTHON'"
      ]
     },
     "execution_count": 49,
     "metadata": {},
     "output_type": "execute_result"
    }
   ],
   "source": [
    "languages[2] "
   ]
  },
  {
   "cell_type": "code",
   "execution_count": 50,
   "id": "ac3bba4f",
   "metadata": {},
   "outputs": [],
   "source": [
    "languages[2] = ['c##', 'scipy', 'pandas']      #replaced index 2 element with list "
   ]
  },
  {
   "cell_type": "code",
   "execution_count": 51,
   "id": "d1f89ec7",
   "metadata": {},
   "outputs": [
    {
     "data": {
      "text/plain": [
       "['C', 'JAVA', ['c##', 'scipy', 'pandas']]"
      ]
     },
     "execution_count": 51,
     "metadata": {},
     "output_type": "execute_result"
    }
   ],
   "source": [
    "languages                                      #list inside list"
   ]
  },
  {
   "cell_type": "code",
   "execution_count": 52,
   "id": "5e9f11bf",
   "metadata": {},
   "outputs": [
    {
     "data": {
      "text/plain": [
       "['c##', 'scipy', 'pandas']"
      ]
     },
     "execution_count": 52,
     "metadata": {},
     "output_type": "execute_result"
    }
   ],
   "source": [
    "languages[2]"
   ]
  },
  {
   "cell_type": "code",
   "execution_count": 53,
   "id": "a24b68ca",
   "metadata": {},
   "outputs": [
    {
     "data": {
      "text/plain": [
       "'scipy'"
      ]
     },
     "execution_count": 53,
     "metadata": {},
     "output_type": "execute_result"
    }
   ],
   "source": [
    "languages[2][1]"
   ]
  },
  {
   "cell_type": "code",
   "execution_count": 54,
   "id": "b8fe8460",
   "metadata": {},
   "outputs": [
    {
     "data": {
      "text/plain": [
       "'c'"
      ]
     },
     "execution_count": 54,
     "metadata": {},
     "output_type": "execute_result"
    }
   ],
   "source": [
    "languages[2][1][1]"
   ]
  }
 ],
 "metadata": {
  "kernelspec": {
   "display_name": "Python 3 (ipykernel)",
   "language": "python",
   "name": "python3"
  },
  "language_info": {
   "codemirror_mode": {
    "name": "ipython",
    "version": 3
   },
   "file_extension": ".py",
   "mimetype": "text/x-python",
   "name": "python",
   "nbconvert_exporter": "python",
   "pygments_lexer": "ipython3",
   "version": "3.9.12"
  }
 },
 "nbformat": 4,
 "nbformat_minor": 5
}
