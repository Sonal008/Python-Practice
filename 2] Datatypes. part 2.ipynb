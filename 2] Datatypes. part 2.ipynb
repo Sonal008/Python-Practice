{
 "cells": [
  {
   "cell_type": "code",
   "execution_count": 1,
   "id": "9cc3e7b7",
   "metadata": {},
   "outputs": [],
   "source": [
    "#append\n",
    "#insert\n",
    "#remove\n",
    "#pop\n",
    "#sort\n",
    "#del\n",
    "#index\n",
    "#count"
   ]
  },
  {
   "cell_type": "code",
   "execution_count": 2,
   "id": "681218fa",
   "metadata": {},
   "outputs": [
    {
     "data": {
      "text/plain": [
       "float"
      ]
     },
     "execution_count": 2,
     "metadata": {},
     "output_type": "execute_result"
    }
   ],
   "source": [
    "#float\n",
    "a = 3.143\n",
    "type(a)"
   ]
  },
  {
   "cell_type": "code",
   "execution_count": 3,
   "id": "354b534a",
   "metadata": {},
   "outputs": [
    {
     "data": {
      "text/plain": [
       "int"
      ]
     },
     "execution_count": 3,
     "metadata": {},
     "output_type": "execute_result"
    }
   ],
   "source": [
    "num = 10\n",
    "type(num)"
   ]
  },
  {
   "cell_type": "code",
   "execution_count": 4,
   "id": "9a270f1e",
   "metadata": {},
   "outputs": [
    {
     "data": {
      "text/plain": [
       "10"
      ]
     },
     "execution_count": 4,
     "metadata": {},
     "output_type": "execute_result"
    }
   ],
   "source": [
    "num.real"
   ]
  },
  {
   "cell_type": "code",
   "execution_count": 5,
   "id": "a3b7cfe5",
   "metadata": {},
   "outputs": [
    {
     "data": {
      "text/plain": [
       "bool"
      ]
     },
     "execution_count": 5,
     "metadata": {},
     "output_type": "execute_result"
    }
   ],
   "source": [
    "a = True\n",
    "type(a)"
   ]
  },
  {
   "cell_type": "code",
   "execution_count": 6,
   "id": "adec150a",
   "metadata": {},
   "outputs": [
    {
     "data": {
      "text/plain": [
       "4.5"
      ]
     },
     "execution_count": 6,
     "metadata": {},
     "output_type": "execute_result"
    }
   ],
   "source": [
    "18/4"
   ]
  },
  {
   "cell_type": "code",
   "execution_count": 7,
   "id": "56161f61",
   "metadata": {},
   "outputs": [
    {
     "data": {
      "text/plain": [
       "4"
      ]
     },
     "execution_count": 7,
     "metadata": {},
     "output_type": "execute_result"
    }
   ],
   "source": [
    "18//4  #round off"
   ]
  },
  {
   "cell_type": "code",
   "execution_count": 8,
   "id": "e79155c9",
   "metadata": {},
   "outputs": [
    {
     "data": {
      "text/plain": [
       "2"
      ]
     },
     "execution_count": 8,
     "metadata": {},
     "output_type": "execute_result"
    }
   ],
   "source": [
    "18%4  #remainder"
   ]
  },
  {
   "cell_type": "markdown",
   "id": "15071ee6",
   "metadata": {},
   "source": [
    "# List operations"
   ]
  },
  {
   "cell_type": "markdown",
   "id": "803d0e8d",
   "metadata": {},
   "source": [
    "## 1] append"
   ]
  },
  {
   "cell_type": "code",
   "execution_count": 9,
   "id": "d778e6fd",
   "metadata": {},
   "outputs": [],
   "source": [
    "#add element/object at end of the list"
   ]
  },
  {
   "cell_type": "code",
   "execution_count": 10,
   "id": "8f0f4e47",
   "metadata": {},
   "outputs": [],
   "source": [
    "languages = ['cpp','java','c#']"
   ]
  },
  {
   "cell_type": "code",
   "execution_count": 11,
   "id": "0d6a3e34",
   "metadata": {},
   "outputs": [
    {
     "data": {
      "text/plain": [
       "list"
      ]
     },
     "execution_count": 11,
     "metadata": {},
     "output_type": "execute_result"
    }
   ],
   "source": [
    "type(languages)"
   ]
  },
  {
   "cell_type": "code",
   "execution_count": 12,
   "id": "2c123245",
   "metadata": {},
   "outputs": [
    {
     "data": {
      "text/plain": [
       "['cpp', 'java', 'c#', 'python']"
      ]
     },
     "execution_count": 12,
     "metadata": {},
     "output_type": "execute_result"
    }
   ],
   "source": [
    "languages.append('python')\n",
    "languages"
   ]
  },
  {
   "cell_type": "markdown",
   "id": "58034147",
   "metadata": {},
   "source": [
    "## append(using list)"
   ]
  },
  {
   "cell_type": "code",
   "execution_count": 13,
   "id": "daa8e3e3",
   "metadata": {},
   "outputs": [
    {
     "data": {
      "text/plain": [
       "['python', 'c#', 'c++', 'java']"
      ]
     },
     "execution_count": 13,
     "metadata": {},
     "output_type": "execute_result"
    }
   ],
   "source": [
    "a = ['python', 'c#','c++','java']\n",
    "a"
   ]
  },
  {
   "cell_type": "code",
   "execution_count": 14,
   "id": "dd1a6144",
   "metadata": {},
   "outputs": [
    {
     "data": {
      "text/plain": [
       "['python', 'c#', 'c++', 'java', 'C']"
      ]
     },
     "execution_count": 14,
     "metadata": {},
     "output_type": "execute_result"
    }
   ],
   "source": [
    "a.append('C')\n",
    "a"
   ]
  },
  {
   "cell_type": "code",
   "execution_count": 15,
   "id": "e874a0ab",
   "metadata": {},
   "outputs": [
    {
     "data": {
      "text/plain": [
       "['10', '20', '30']"
      ]
     },
     "execution_count": 15,
     "metadata": {},
     "output_type": "execute_result"
    }
   ],
   "source": [
    "b =['10', '20', '30']\n",
    "b          "
   ]
  },
  {
   "cell_type": "code",
   "execution_count": 16,
   "id": "89134636",
   "metadata": {},
   "outputs": [
    {
     "data": {
      "text/plain": [
       "['python', 'c#', 'c++', 'java', 'C', ['10', '20', '30']]"
      ]
     },
     "execution_count": 16,
     "metadata": {},
     "output_type": "execute_result"
    }
   ],
   "source": [
    "a.append(b)\n",
    "a\n",
    "\n",
    "#list inside the list"
   ]
  },
  {
   "cell_type": "code",
   "execution_count": 17,
   "id": "28f063a2",
   "metadata": {},
   "outputs": [
    {
     "data": {
      "text/plain": [
       "['10', '20', '30']"
      ]
     },
     "execution_count": 17,
     "metadata": {},
     "output_type": "execute_result"
    }
   ],
   "source": [
    "a[-1]        #index of last element"
   ]
  },
  {
   "cell_type": "code",
   "execution_count": 18,
   "id": "144f8d55",
   "metadata": {},
   "outputs": [
    {
     "data": {
      "text/plain": [
       "'10'"
      ]
     },
     "execution_count": 18,
     "metadata": {},
     "output_type": "execute_result"
    }
   ],
   "source": [
    "a[-1][0]"
   ]
  },
  {
   "cell_type": "code",
   "execution_count": 19,
   "id": "dcd59a74",
   "metadata": {},
   "outputs": [],
   "source": [
    "s = 'sonal'"
   ]
  },
  {
   "cell_type": "code",
   "execution_count": 20,
   "id": "ec1de46a",
   "metadata": {},
   "outputs": [
    {
     "data": {
      "text/plain": [
       "['python', 'c#', 'c++', 'java', 'C', ['10', '20', '30'], 'sonal']"
      ]
     },
     "execution_count": 20,
     "metadata": {},
     "output_type": "execute_result"
    }
   ],
   "source": [
    "a.append(s)\n",
    "a"
   ]
  },
  {
   "cell_type": "code",
   "execution_count": 21,
   "id": "87edb068",
   "metadata": {},
   "outputs": [
    {
     "data": {
      "text/plain": [
       "7"
      ]
     },
     "execution_count": 21,
     "metadata": {},
     "output_type": "execute_result"
    }
   ],
   "source": [
    "len(a)"
   ]
  },
  {
   "cell_type": "markdown",
   "id": "8c70fa60",
   "metadata": {},
   "source": [
    "## 2] Insert "
   ]
  },
  {
   "cell_type": "code",
   "execution_count": 22,
   "id": "e3f11e7e",
   "metadata": {},
   "outputs": [],
   "source": [
    "### insert in between list "
   ]
  },
  {
   "cell_type": "code",
   "execution_count": 23,
   "id": "b13c3d21",
   "metadata": {},
   "outputs": [
    {
     "data": {
      "text/plain": [
       "['cpp', 'perl', 'java', 'c#', 'python']"
      ]
     },
     "execution_count": 23,
     "metadata": {},
     "output_type": "execute_result"
    }
   ],
   "source": [
    "languages.insert(1,'perl') #(index, data)\n",
    "languages                  #1 = index "
   ]
  },
  {
   "cell_type": "code",
   "execution_count": 24,
   "id": "efe51104",
   "metadata": {},
   "outputs": [
    {
     "name": "stdout",
     "output_type": "stream",
     "text": [
      "Help on class list in module builtins:\n",
      "\n",
      "class list(object)\n",
      " |  list(iterable=(), /)\n",
      " |  \n",
      " |  Built-in mutable sequence.\n",
      " |  \n",
      " |  If no argument is given, the constructor creates a new empty list.\n",
      " |  The argument must be an iterable if specified.\n",
      " |  \n",
      " |  Methods defined here:\n",
      " |  \n",
      " |  __add__(self, value, /)\n",
      " |      Return self+value.\n",
      " |  \n",
      " |  __contains__(self, key, /)\n",
      " |      Return key in self.\n",
      " |  \n",
      " |  __delitem__(self, key, /)\n",
      " |      Delete self[key].\n",
      " |  \n",
      " |  __eq__(self, value, /)\n",
      " |      Return self==value.\n",
      " |  \n",
      " |  __ge__(self, value, /)\n",
      " |      Return self>=value.\n",
      " |  \n",
      " |  __getattribute__(self, name, /)\n",
      " |      Return getattr(self, name).\n",
      " |  \n",
      " |  __getitem__(...)\n",
      " |      x.__getitem__(y) <==> x[y]\n",
      " |  \n",
      " |  __gt__(self, value, /)\n",
      " |      Return self>value.\n",
      " |  \n",
      " |  __iadd__(self, value, /)\n",
      " |      Implement self+=value.\n",
      " |  \n",
      " |  __imul__(self, value, /)\n",
      " |      Implement self*=value.\n",
      " |  \n",
      " |  __init__(self, /, *args, **kwargs)\n",
      " |      Initialize self.  See help(type(self)) for accurate signature.\n",
      " |  \n",
      " |  __iter__(self, /)\n",
      " |      Implement iter(self).\n",
      " |  \n",
      " |  __le__(self, value, /)\n",
      " |      Return self<=value.\n",
      " |  \n",
      " |  __len__(self, /)\n",
      " |      Return len(self).\n",
      " |  \n",
      " |  __lt__(self, value, /)\n",
      " |      Return self<value.\n",
      " |  \n",
      " |  __mul__(self, value, /)\n",
      " |      Return self*value.\n",
      " |  \n",
      " |  __ne__(self, value, /)\n",
      " |      Return self!=value.\n",
      " |  \n",
      " |  __repr__(self, /)\n",
      " |      Return repr(self).\n",
      " |  \n",
      " |  __reversed__(self, /)\n",
      " |      Return a reverse iterator over the list.\n",
      " |  \n",
      " |  __rmul__(self, value, /)\n",
      " |      Return value*self.\n",
      " |  \n",
      " |  __setitem__(self, key, value, /)\n",
      " |      Set self[key] to value.\n",
      " |  \n",
      " |  __sizeof__(self, /)\n",
      " |      Return the size of the list in memory, in bytes.\n",
      " |  \n",
      " |  append(self, object, /)\n",
      " |      Append object to the end of the list.\n",
      " |  \n",
      " |  clear(self, /)\n",
      " |      Remove all items from list.\n",
      " |  \n",
      " |  copy(self, /)\n",
      " |      Return a shallow copy of the list.\n",
      " |  \n",
      " |  count(self, value, /)\n",
      " |      Return number of occurrences of value.\n",
      " |  \n",
      " |  extend(self, iterable, /)\n",
      " |      Extend list by appending elements from the iterable.\n",
      " |  \n",
      " |  index(self, value, start=0, stop=9223372036854775807, /)\n",
      " |      Return first index of value.\n",
      " |      \n",
      " |      Raises ValueError if the value is not present.\n",
      " |  \n",
      " |  insert(self, index, object, /)\n",
      " |      Insert object before index.\n",
      " |  \n",
      " |  pop(self, index=-1, /)\n",
      " |      Remove and return item at index (default last).\n",
      " |      \n",
      " |      Raises IndexError if list is empty or index is out of range.\n",
      " |  \n",
      " |  remove(self, value, /)\n",
      " |      Remove first occurrence of value.\n",
      " |      \n",
      " |      Raises ValueError if the value is not present.\n",
      " |  \n",
      " |  reverse(self, /)\n",
      " |      Reverse *IN PLACE*.\n",
      " |  \n",
      " |  sort(self, /, *, key=None, reverse=False)\n",
      " |      Sort the list in ascending order and return None.\n",
      " |      \n",
      " |      The sort is in-place (i.e. the list itself is modified) and stable (i.e. the\n",
      " |      order of two equal elements is maintained).\n",
      " |      \n",
      " |      If a key function is given, apply it once to each list item and sort them,\n",
      " |      ascending or descending, according to their function values.\n",
      " |      \n",
      " |      The reverse flag can be set to sort in descending order.\n",
      " |  \n",
      " |  ----------------------------------------------------------------------\n",
      " |  Class methods defined here:\n",
      " |  \n",
      " |  __class_getitem__(...) from builtins.type\n",
      " |      See PEP 585\n",
      " |  \n",
      " |  ----------------------------------------------------------------------\n",
      " |  Static methods defined here:\n",
      " |  \n",
      " |  __new__(*args, **kwargs) from builtins.type\n",
      " |      Create and return a new object.  See help(type) for accurate signature.\n",
      " |  \n",
      " |  ----------------------------------------------------------------------\n",
      " |  Data and other attributes defined here:\n",
      " |  \n",
      " |  __hash__ = None\n",
      "\n"
     ]
    }
   ],
   "source": [
    "help(list)"
   ]
  },
  {
   "cell_type": "code",
   "execution_count": 25,
   "id": "6ab5aa8d",
   "metadata": {},
   "outputs": [
    {
     "data": {
      "text/plain": [
       "['cpp', 'perl', 'java', 'c#', 'python']"
      ]
     },
     "execution_count": 25,
     "metadata": {},
     "output_type": "execute_result"
    }
   ],
   "source": [
    "languages"
   ]
  },
  {
   "cell_type": "code",
   "execution_count": 26,
   "id": "a9dfb66e",
   "metadata": {},
   "outputs": [
    {
     "data": {
      "text/plain": [
       "['cpp', 'perl', 'java', 'c#', 'Ruby', 'python']"
      ]
     },
     "execution_count": 26,
     "metadata": {},
     "output_type": "execute_result"
    }
   ],
   "source": [
    "languages.insert(-1,'Ruby')\n",
    "languages"
   ]
  },
  {
   "cell_type": "code",
   "execution_count": 27,
   "id": "12b73140",
   "metadata": {},
   "outputs": [
    {
     "name": "stdout",
     "output_type": "stream",
     "text": [
      "Help on method_descriptor:\n",
      "\n",
      "insert(self, index, object, /)\n",
      "    Insert object before index.\n",
      "\n"
     ]
    }
   ],
   "source": [
    "help(list.insert)"
   ]
  },
  {
   "cell_type": "markdown",
   "id": "e58172b1",
   "metadata": {},
   "source": [
    "## 3] Remove"
   ]
  },
  {
   "cell_type": "code",
   "execution_count": 28,
   "id": "a0bc0f02",
   "metadata": {},
   "outputs": [],
   "source": [
    "# remove : element based on value"
   ]
  },
  {
   "cell_type": "code",
   "execution_count": 29,
   "id": "47233d9f",
   "metadata": {},
   "outputs": [
    {
     "data": {
      "text/plain": [
       "['cpp', 'perl', 'java', 'c#', 'Ruby', 'python']"
      ]
     },
     "execution_count": 29,
     "metadata": {},
     "output_type": "execute_result"
    }
   ],
   "source": [
    "languages"
   ]
  },
  {
   "cell_type": "code",
   "execution_count": 30,
   "id": "bf6276d9",
   "metadata": {},
   "outputs": [],
   "source": [
    "languages.remove('java')"
   ]
  },
  {
   "cell_type": "code",
   "execution_count": 31,
   "id": "b7cce774",
   "metadata": {},
   "outputs": [
    {
     "data": {
      "text/plain": [
       "['cpp', 'perl', 'c#', 'Ruby', 'python']"
      ]
     },
     "execution_count": 31,
     "metadata": {},
     "output_type": "execute_result"
    }
   ],
   "source": [
    "languages"
   ]
  },
  {
   "cell_type": "code",
   "execution_count": 32,
   "id": "3a456d29",
   "metadata": {},
   "outputs": [
    {
     "data": {
      "text/plain": [
       "['cpp', 'perl', 'c#', 'Ruby', 'python', 'cpp']"
      ]
     },
     "execution_count": 32,
     "metadata": {},
     "output_type": "execute_result"
    }
   ],
   "source": [
    "languages.append('cpp')\n",
    "languages"
   ]
  },
  {
   "cell_type": "code",
   "execution_count": 33,
   "id": "5016861d",
   "metadata": {},
   "outputs": [
    {
     "data": {
      "text/plain": [
       "['perl', 'c#', 'Ruby', 'python', 'cpp']"
      ]
     },
     "execution_count": 33,
     "metadata": {},
     "output_type": "execute_result"
    }
   ],
   "source": [
    "languages.remove('cpp')\n",
    "languages"
   ]
  },
  {
   "cell_type": "code",
   "execution_count": 34,
   "id": "a0e5a723",
   "metadata": {},
   "outputs": [
    {
     "data": {
      "text/plain": [
       "['c#', 'Ruby', 'python', 'cpp']"
      ]
     },
     "execution_count": 34,
     "metadata": {},
     "output_type": "execute_result"
    }
   ],
   "source": [
    "languages.remove('perl')\n",
    "languages"
   ]
  },
  {
   "cell_type": "markdown",
   "id": "d9776418",
   "metadata": {},
   "source": [
    "## 4] pop "
   ]
  },
  {
   "cell_type": "code",
   "execution_count": 35,
   "id": "7c95ba8a",
   "metadata": {},
   "outputs": [
    {
     "data": {
      "text/plain": [
       "['c#', 'Ruby', 'python', 'cpp']"
      ]
     },
     "execution_count": 35,
     "metadata": {},
     "output_type": "execute_result"
    }
   ],
   "source": [
    "languages"
   ]
  },
  {
   "cell_type": "code",
   "execution_count": 36,
   "id": "6042bec9",
   "metadata": {},
   "outputs": [
    {
     "data": {
      "text/plain": [
       "'cpp'"
      ]
     },
     "execution_count": 36,
     "metadata": {},
     "output_type": "execute_result"
    }
   ],
   "source": [
    "languages.pop()   #bydefault pop out last last element"
   ]
  },
  {
   "cell_type": "code",
   "execution_count": 37,
   "id": "05f65c20",
   "metadata": {},
   "outputs": [
    {
     "data": {
      "text/plain": [
       "['c#', 'Ruby', 'python']"
      ]
     },
     "execution_count": 37,
     "metadata": {},
     "output_type": "execute_result"
    }
   ],
   "source": [
    "languages"
   ]
  },
  {
   "cell_type": "code",
   "execution_count": 38,
   "id": "353c4251",
   "metadata": {},
   "outputs": [
    {
     "data": {
      "text/plain": [
       "'python'"
      ]
     },
     "execution_count": 38,
     "metadata": {},
     "output_type": "execute_result"
    }
   ],
   "source": [
    "languages.pop(2)    #index in brackets; shows the data "
   ]
  },
  {
   "cell_type": "code",
   "execution_count": 39,
   "id": "19b6825a",
   "metadata": {},
   "outputs": [
    {
     "data": {
      "text/plain": [
       "['c#', 'Ruby']"
      ]
     },
     "execution_count": 39,
     "metadata": {},
     "output_type": "execute_result"
    }
   ],
   "source": [
    "languages"
   ]
  },
  {
   "cell_type": "markdown",
   "id": "030ed4c0",
   "metadata": {},
   "source": [
    "## 5] Delete"
   ]
  },
  {
   "cell_type": "code",
   "execution_count": 40,
   "id": "141a0477",
   "metadata": {},
   "outputs": [
    {
     "data": {
      "text/plain": [
       "['c#', 'Ruby', 'python', 'c#']"
      ]
     },
     "execution_count": 40,
     "metadata": {},
     "output_type": "execute_result"
    }
   ],
   "source": [
    "languages.append('python')\n",
    "languages.append('c#')\n",
    "languages"
   ]
  },
  {
   "cell_type": "code",
   "execution_count": 41,
   "id": "2e482fcc",
   "metadata": {},
   "outputs": [
    {
     "ename": "AttributeError",
     "evalue": "'list' object has no attribute 'concat'",
     "output_type": "error",
     "traceback": [
      "\u001b[1;31m---------------------------------------------------------------------------\u001b[0m",
      "\u001b[1;31mAttributeError\u001b[0m                            Traceback (most recent call last)",
      "Input \u001b[1;32mIn [41]\u001b[0m, in \u001b[0;36m<cell line: 1>\u001b[1;34m()\u001b[0m\n\u001b[1;32m----> 1\u001b[0m \u001b[43mlanguages\u001b[49m\u001b[38;5;241;43m.\u001b[39;49m\u001b[43mconcat\u001b[49m(\u001b[38;5;124m'\u001b[39m\u001b[38;5;124mjava\u001b[39m\u001b[38;5;124m'\u001b[39m,\u001b[38;5;124m'\u001b[39m\u001b[38;5;124mc++\u001b[39m\u001b[38;5;124m'\u001b[39m)\n\u001b[0;32m      2\u001b[0m languages\n",
      "\u001b[1;31mAttributeError\u001b[0m: 'list' object has no attribute 'concat'"
     ]
    }
   ],
   "source": [
    "languages.concat('java','c++')\n",
    "languages"
   ]
  },
  {
   "cell_type": "code",
   "execution_count": 42,
   "id": "4b4338ee",
   "metadata": {},
   "outputs": [],
   "source": [
    "languages.append('c++')"
   ]
  },
  {
   "cell_type": "code",
   "execution_count": 43,
   "id": "89acc638",
   "metadata": {},
   "outputs": [
    {
     "data": {
      "text/plain": [
       "['c#', 'Ruby', 'python', 'c#', 'c++']"
      ]
     },
     "execution_count": 43,
     "metadata": {},
     "output_type": "execute_result"
    }
   ],
   "source": [
    "languages"
   ]
  },
  {
   "cell_type": "code",
   "execution_count": 44,
   "id": "256b11fa",
   "metadata": {},
   "outputs": [],
   "source": [
    "del languages[1]                            #index 1 element deleted"
   ]
  },
  {
   "cell_type": "code",
   "execution_count": 45,
   "id": "44ca9172",
   "metadata": {},
   "outputs": [
    {
     "data": {
      "text/plain": [
       "['c#', 'python', 'c#', 'c++']"
      ]
     },
     "execution_count": 45,
     "metadata": {},
     "output_type": "execute_result"
    }
   ],
   "source": [
    "languages"
   ]
  },
  {
   "cell_type": "code",
   "execution_count": 46,
   "id": "d86bff33",
   "metadata": {},
   "outputs": [],
   "source": [
    "del languages[:1]                           #delete first element"
   ]
  },
  {
   "cell_type": "code",
   "execution_count": 47,
   "id": "cd0a585a",
   "metadata": {},
   "outputs": [
    {
     "data": {
      "text/plain": [
       "['python', 'c#', 'c++']"
      ]
     },
     "execution_count": 47,
     "metadata": {},
     "output_type": "execute_result"
    }
   ],
   "source": [
    "languages"
   ]
  },
  {
   "cell_type": "code",
   "execution_count": 48,
   "id": "74bf8d49",
   "metadata": {},
   "outputs": [],
   "source": [
    "del languages"
   ]
  },
  {
   "cell_type": "code",
   "execution_count": 49,
   "id": "880138f1",
   "metadata": {},
   "outputs": [
    {
     "ename": "NameError",
     "evalue": "name 'languages' is not defined",
     "output_type": "error",
     "traceback": [
      "\u001b[1;31m---------------------------------------------------------------------------\u001b[0m",
      "\u001b[1;31mNameError\u001b[0m                                 Traceback (most recent call last)",
      "Input \u001b[1;32mIn [49]\u001b[0m, in \u001b[0;36m<cell line: 1>\u001b[1;34m()\u001b[0m\n\u001b[1;32m----> 1\u001b[0m \u001b[43mlanguages\u001b[49m\n",
      "\u001b[1;31mNameError\u001b[0m: name 'languages' is not defined"
     ]
    }
   ],
   "source": [
    "languages"
   ]
  },
  {
   "cell_type": "markdown",
   "id": "73d22921",
   "metadata": {},
   "source": [
    "## 6] Extend"
   ]
  },
  {
   "cell_type": "code",
   "execution_count": 50,
   "id": "5aa0d771",
   "metadata": {},
   "outputs": [],
   "source": [
    "# extend expands things"
   ]
  },
  {
   "cell_type": "code",
   "execution_count": 51,
   "id": "90ee3478",
   "metadata": {},
   "outputs": [
    {
     "data": {
      "text/plain": [
       "['python', 'c#', 'c++', 'java', 'C', ['10', '20', '30'], 'sonal']"
      ]
     },
     "execution_count": 51,
     "metadata": {},
     "output_type": "execute_result"
    }
   ],
   "source": [
    "a"
   ]
  },
  {
   "cell_type": "code",
   "execution_count": 52,
   "id": "14e19abe",
   "metadata": {},
   "outputs": [
    {
     "data": {
      "text/plain": [
       "['maths', 'science', 'history']"
      ]
     },
     "execution_count": 52,
     "metadata": {},
     "output_type": "execute_result"
    }
   ],
   "source": [
    "c = ['maths','science','history']\n",
    "c"
   ]
  },
  {
   "cell_type": "markdown",
   "id": "1f135783",
   "metadata": {},
   "source": [
    "## Extend the a list"
   ]
  },
  {
   "cell_type": "code",
   "execution_count": 53,
   "id": "06b990fb",
   "metadata": {},
   "outputs": [
    {
     "data": {
      "text/plain": [
       "['python',\n",
       " 'c#',\n",
       " 'c++',\n",
       " 'java',\n",
       " 'C',\n",
       " ['10', '20', '30'],\n",
       " 'sonal',\n",
       " 'maths',\n",
       " 'science',\n",
       " 'history']"
      ]
     },
     "execution_count": 53,
     "metadata": {},
     "output_type": "execute_result"
    }
   ],
   "source": [
    "a.extend(c)\n",
    "a   \n",
    "#this add 'c' in 'a' but not as list in list"
   ]
  },
  {
   "cell_type": "code",
   "execution_count": 54,
   "id": "7dcf6426",
   "metadata": {},
   "outputs": [
    {
     "data": {
      "text/plain": [
       "['python',\n",
       " 'c#',\n",
       " 'c++',\n",
       " 'java',\n",
       " 'C',\n",
       " ['10', '20', '30'],\n",
       " 'sonal',\n",
       " 'maths',\n",
       " 'science',\n",
       " 'history',\n",
       " 's',\n",
       " 'o',\n",
       " 'n',\n",
       " 'a',\n",
       " 'l']"
      ]
     },
     "execution_count": 54,
     "metadata": {},
     "output_type": "execute_result"
    }
   ],
   "source": [
    "a.extend(s)\n",
    "#string S every element has be taken seperately\n",
    "a"
   ]
  },
  {
   "cell_type": "code",
   "execution_count": 55,
   "id": "f5b9d2d5",
   "metadata": {},
   "outputs": [
    {
     "data": {
      "text/plain": [
       "['python',\n",
       " 'c#',\n",
       " 'c++',\n",
       " 'java',\n",
       " 'C',\n",
       " ['10', '20', '30'],\n",
       " 'sonal',\n",
       " 'maths',\n",
       " 'science',\n",
       " 'history',\n",
       " 's',\n",
       " 'o',\n",
       " 'n',\n",
       " 'a',\n",
       " 'l',\n",
       " 'sonal']"
      ]
     },
     "execution_count": 55,
     "metadata": {},
     "output_type": "execute_result"
    }
   ],
   "source": [
    "a.append(s)\n",
    "a"
   ]
  },
  {
   "cell_type": "code",
   "execution_count": 56,
   "id": "7ae2458b",
   "metadata": {},
   "outputs": [
    {
     "name": "stdout",
     "output_type": "stream",
     "text": [
      "Help on method_descriptor:\n",
      "\n",
      "extend(self, iterable, /)\n",
      "    Extend list by appending elements from the iterable.\n",
      "\n"
     ]
    }
   ],
   "source": [
    "help(list.extend)"
   ]
  },
  {
   "cell_type": "markdown",
   "id": "8cd53034",
   "metadata": {},
   "source": [
    "## 7] Count"
   ]
  },
  {
   "cell_type": "code",
   "execution_count": 57,
   "id": "a6a47e89",
   "metadata": {},
   "outputs": [
    {
     "data": {
      "text/plain": [
       "['python',\n",
       " 'c#',\n",
       " 'c++',\n",
       " 'java',\n",
       " 'C',\n",
       " ['10', '20', '30'],\n",
       " 'sonal',\n",
       " 'maths',\n",
       " 'science',\n",
       " 'history',\n",
       " 's',\n",
       " 'o',\n",
       " 'n',\n",
       " 'a',\n",
       " 'l',\n",
       " 'sonal']"
      ]
     },
     "execution_count": 57,
     "metadata": {},
     "output_type": "execute_result"
    }
   ],
   "source": [
    "a"
   ]
  },
  {
   "cell_type": "code",
   "execution_count": 58,
   "id": "146c7d40",
   "metadata": {},
   "outputs": [
    {
     "data": {
      "text/plain": [
       "2"
      ]
     },
     "execution_count": 58,
     "metadata": {},
     "output_type": "execute_result"
    }
   ],
   "source": [
    "a.count('sonal')"
   ]
  },
  {
   "cell_type": "code",
   "execution_count": 59,
   "id": "7ccc501c",
   "metadata": {},
   "outputs": [
    {
     "data": {
      "text/plain": [
       "0"
      ]
     },
     "execution_count": 59,
     "metadata": {},
     "output_type": "execute_result"
    }
   ],
   "source": [
    "a.count(10)    #10 is not independent object. it is inside list so it will not show its count"
   ]
  },
  {
   "cell_type": "code",
   "execution_count": 60,
   "id": "3aa7bac7",
   "metadata": {},
   "outputs": [
    {
     "data": {
      "text/plain": [
       "0"
      ]
     },
     "execution_count": 60,
     "metadata": {},
     "output_type": "execute_result"
    }
   ],
   "source": [
    "a.count('10')"
   ]
  },
  {
   "cell_type": "markdown",
   "id": "bd3d5ef9",
   "metadata": {},
   "source": [
    "## 8] Index"
   ]
  },
  {
   "cell_type": "code",
   "execution_count": 61,
   "id": "4f7d94a1",
   "metadata": {},
   "outputs": [
    {
     "data": {
      "text/plain": [
       "['python',\n",
       " 'c#',\n",
       " 'c++',\n",
       " 'java',\n",
       " 'C',\n",
       " ['10', '20', '30'],\n",
       " 'sonal',\n",
       " 'maths',\n",
       " 'science',\n",
       " 'history',\n",
       " 's',\n",
       " 'o',\n",
       " 'n',\n",
       " 'a',\n",
       " 'l',\n",
       " 'sonal']"
      ]
     },
     "execution_count": 61,
     "metadata": {},
     "output_type": "execute_result"
    }
   ],
   "source": [
    "a"
   ]
  },
  {
   "cell_type": "code",
   "execution_count": 62,
   "id": "6449dae1",
   "metadata": {},
   "outputs": [
    {
     "data": {
      "text/plain": [
       "1"
      ]
     },
     "execution_count": 62,
     "metadata": {},
     "output_type": "execute_result"
    }
   ],
   "source": [
    "a.index('c#')"
   ]
  },
  {
   "cell_type": "code",
   "execution_count": 63,
   "id": "0aa1f75b",
   "metadata": {},
   "outputs": [
    {
     "data": {
      "text/plain": [
       "12"
      ]
     },
     "execution_count": 63,
     "metadata": {},
     "output_type": "execute_result"
    }
   ],
   "source": [
    "a.index('n', 3)    #index after 3rd index position "
   ]
  },
  {
   "cell_type": "markdown",
   "id": "941dcd03",
   "metadata": {},
   "source": [
    "## Mutable vs Immutable"
   ]
  },
  {
   "cell_type": "markdown",
   "id": "03f405c4",
   "metadata": {},
   "source": [
    "- mutable- LIST, DICT, SET\n",
    "- immutable - STRINGS, TUPLE, INT, FLOAT, BOOL"
   ]
  },
  {
   "cell_type": "code",
   "execution_count": 64,
   "id": "87bc9d9c",
   "metadata": {},
   "outputs": [
    {
     "data": {
      "text/plain": [
       "['science', 'history', 'maths']"
      ]
     },
     "execution_count": 64,
     "metadata": {},
     "output_type": "execute_result"
    }
   ],
   "source": [
    "x = ['science','history','maths']\n",
    "x"
   ]
  },
  {
   "cell_type": "code",
   "execution_count": 65,
   "id": "2a89d231",
   "metadata": {},
   "outputs": [
    {
     "data": {
      "text/plain": [
       "['hindi', 'history', 'maths']"
      ]
     },
     "execution_count": 65,
     "metadata": {},
     "output_type": "execute_result"
    }
   ],
   "source": [
    "x[0]= 'hindi'\n",
    "x                     #list is mutable"
   ]
  },
  {
   "cell_type": "code",
   "execution_count": 66,
   "id": "548440b1",
   "metadata": {},
   "outputs": [
    {
     "data": {
      "text/plain": [
       "'sonal'"
      ]
     },
     "execution_count": 66,
     "metadata": {},
     "output_type": "execute_result"
    }
   ],
   "source": [
    "s"
   ]
  },
  {
   "cell_type": "code",
   "execution_count": 67,
   "id": "5b30e4c7",
   "metadata": {},
   "outputs": [
    {
     "ename": "TypeError",
     "evalue": "'str' object does not support item assignment",
     "output_type": "error",
     "traceback": [
      "\u001b[1;31m---------------------------------------------------------------------------\u001b[0m",
      "\u001b[1;31mTypeError\u001b[0m                                 Traceback (most recent call last)",
      "Input \u001b[1;32mIn [67]\u001b[0m, in \u001b[0;36m<cell line: 1>\u001b[1;34m()\u001b[0m\n\u001b[1;32m----> 1\u001b[0m s[\u001b[38;5;241m0\u001b[39m] \u001b[38;5;241m=\u001b[39m \u001b[38;5;124m'\u001b[39m\u001b[38;5;124ma\u001b[39m\u001b[38;5;124m'\u001b[39m\n",
      "\u001b[1;31mTypeError\u001b[0m: 'str' object does not support item assignment"
     ]
    }
   ],
   "source": [
    "s[0] = 'a'    #String is not mutable"
   ]
  },
  {
   "cell_type": "markdown",
   "id": "dd940871",
   "metadata": {},
   "source": [
    "## 9] Sort"
   ]
  },
  {
   "cell_type": "code",
   "execution_count": 68,
   "id": "7af32a9f",
   "metadata": {},
   "outputs": [],
   "source": [
    "x = ['science','history','maths', 'geo', 'hindi']"
   ]
  },
  {
   "cell_type": "code",
   "execution_count": 69,
   "id": "3337254f",
   "metadata": {},
   "outputs": [
    {
     "data": {
      "text/plain": [
       "['geo', 'hindi', 'history', 'maths', 'science']"
      ]
     },
     "execution_count": 69,
     "metadata": {},
     "output_type": "execute_result"
    }
   ],
   "source": [
    "x.sort()\n",
    "x"
   ]
  },
  {
   "cell_type": "code",
   "execution_count": 70,
   "id": "c5d31ef8",
   "metadata": {},
   "outputs": [
    {
     "data": {
      "text/plain": [
       "[10, 40, 20, 1]"
      ]
     },
     "execution_count": 70,
     "metadata": {},
     "output_type": "execute_result"
    }
   ],
   "source": [
    "num = [10,40,20,1]\n",
    "num"
   ]
  },
  {
   "cell_type": "code",
   "execution_count": 71,
   "id": "dd95172c",
   "metadata": {},
   "outputs": [
    {
     "data": {
      "text/plain": [
       "[1, 10, 20, 40]"
      ]
     },
     "execution_count": 71,
     "metadata": {},
     "output_type": "execute_result"
    }
   ],
   "source": [
    "num.sort()     #ascending sort\n",
    "num"
   ]
  },
  {
   "cell_type": "code",
   "execution_count": 72,
   "id": "5f39eac5",
   "metadata": {},
   "outputs": [
    {
     "data": {
      "text/plain": [
       "[40, 20, 10, 1]"
      ]
     },
     "execution_count": 72,
     "metadata": {},
     "output_type": "execute_result"
    }
   ],
   "source": [
    "num.sort(reverse = True)    #descending sort\n",
    "num"
   ]
  },
  {
   "cell_type": "markdown",
   "id": "d0d062d1",
   "metadata": {},
   "source": [
    "## 10] Tuple"
   ]
  },
  {
   "cell_type": "markdown",
   "id": "5b50bfc6",
   "metadata": {},
   "source": [
    "- ordered collection of items\n",
    "- syntax()\n",
    "- immutable"
   ]
  },
  {
   "cell_type": "code",
   "execution_count": 73,
   "id": "90b84e12",
   "metadata": {},
   "outputs": [
    {
     "data": {
      "text/plain": [
       "('covax', 'sputnik', 'covishield')"
      ]
     },
     "execution_count": 73,
     "metadata": {},
     "output_type": "execute_result"
    }
   ],
   "source": [
    "vaccine = ('covax', 'sputnik', 'covishield')\n",
    "vaccine"
   ]
  },
  {
   "cell_type": "code",
   "execution_count": 74,
   "id": "de49775f",
   "metadata": {},
   "outputs": [
    {
     "data": {
      "text/plain": [
       "tuple"
      ]
     },
     "execution_count": 74,
     "metadata": {},
     "output_type": "execute_result"
    }
   ],
   "source": [
    "type(vaccine)"
   ]
  },
  {
   "cell_type": "code",
   "execution_count": 75,
   "id": "a75fd724",
   "metadata": {},
   "outputs": [
    {
     "data": {
      "text/plain": [
       "3"
      ]
     },
     "execution_count": 75,
     "metadata": {},
     "output_type": "execute_result"
    }
   ],
   "source": [
    "len(vaccine)"
   ]
  },
  {
   "cell_type": "code",
   "execution_count": 76,
   "id": "fd0f1a3d",
   "metadata": {},
   "outputs": [
    {
     "data": {
      "text/plain": [
       "'sputnik'"
      ]
     },
     "execution_count": 76,
     "metadata": {},
     "output_type": "execute_result"
    }
   ],
   "source": [
    "vaccine[1]                #index"
   ]
  },
  {
   "cell_type": "code",
   "execution_count": 77,
   "id": "8ae673da",
   "metadata": {},
   "outputs": [
    {
     "data": {
      "text/plain": [
       "('covax', 'sputnik')"
      ]
     },
     "execution_count": 77,
     "metadata": {},
     "output_type": "execute_result"
    }
   ],
   "source": [
    "vaccine[:2]               #slicing"
   ]
  },
  {
   "cell_type": "code",
   "execution_count": 78,
   "id": "eb878646",
   "metadata": {},
   "outputs": [
    {
     "data": {
      "text/plain": [
       "1"
      ]
     },
     "execution_count": 78,
     "metadata": {},
     "output_type": "execute_result"
    }
   ],
   "source": [
    "vaccine.count('covishield')"
   ]
  },
  {
   "cell_type": "code",
   "execution_count": 79,
   "id": "5b3f584f",
   "metadata": {},
   "outputs": [
    {
     "ename": "TypeError",
     "evalue": "'tuple' object doesn't support item deletion",
     "output_type": "error",
     "traceback": [
      "\u001b[1;31m---------------------------------------------------------------------------\u001b[0m",
      "\u001b[1;31mTypeError\u001b[0m                                 Traceback (most recent call last)",
      "Input \u001b[1;32mIn [79]\u001b[0m, in \u001b[0;36m<cell line: 1>\u001b[1;34m()\u001b[0m\n\u001b[1;32m----> 1\u001b[0m \u001b[38;5;28;01mdel\u001b[39;00m vaccine[\u001b[38;5;241m0\u001b[39m]\n",
      "\u001b[1;31mTypeError\u001b[0m: 'tuple' object doesn't support item deletion"
     ]
    }
   ],
   "source": [
    "del vaccine[0]     "
   ]
  },
  {
   "cell_type": "code",
   "execution_count": 80,
   "id": "0aa89daa",
   "metadata": {},
   "outputs": [
    {
     "ename": "TypeError",
     "evalue": "'tuple' object does not support item assignment",
     "output_type": "error",
     "traceback": [
      "\u001b[1;31m---------------------------------------------------------------------------\u001b[0m",
      "\u001b[1;31mTypeError\u001b[0m                                 Traceback (most recent call last)",
      "Input \u001b[1;32mIn [80]\u001b[0m, in \u001b[0;36m<cell line: 1>\u001b[1;34m()\u001b[0m\n\u001b[1;32m----> 1\u001b[0m vaccine[\u001b[38;5;241m0\u001b[39m] \u001b[38;5;241m=\u001b[39m \u001b[38;5;124m'\u001b[39m\u001b[38;5;124mpfizer\u001b[39m\u001b[38;5;124m'\u001b[39m\n\u001b[0;32m      2\u001b[0m vaccine\n",
      "\u001b[1;31mTypeError\u001b[0m: 'tuple' object does not support item assignment"
     ]
    }
   ],
   "source": [
    "vaccine[0] = 'pfizer'\n",
    "vaccine"
   ]
  },
  {
   "cell_type": "code",
   "execution_count": 81,
   "id": "e13b1be0",
   "metadata": {},
   "outputs": [],
   "source": [
    "# tuple: we cannot delete, assign \n",
    "\n",
    "# tuple : we can only count, check index"
   ]
  },
  {
   "cell_type": "markdown",
   "id": "cb33c8bd",
   "metadata": {},
   "source": [
    "## 11] Packing"
   ]
  },
  {
   "cell_type": "code",
   "execution_count": 82,
   "id": "0f5a831b",
   "metadata": {},
   "outputs": [
    {
     "data": {
      "text/plain": [
       "('sonal', 27, 'girl')"
      ]
     },
     "execution_count": 82,
     "metadata": {},
     "output_type": "execute_result"
    }
   ],
   "source": [
    "rs = 'sonal', 27, 'girl'         #tuple cretaed by default here\n",
    "rs"
   ]
  },
  {
   "cell_type": "code",
   "execution_count": 83,
   "id": "f2f7fc8b",
   "metadata": {},
   "outputs": [],
   "source": [
    "name, age, dept = 'Revati', 20, 'Commerce'"
   ]
  },
  {
   "cell_type": "code",
   "execution_count": 84,
   "id": "0d05387a",
   "metadata": {},
   "outputs": [
    {
     "data": {
      "text/plain": [
       "'Revati'"
      ]
     },
     "execution_count": 84,
     "metadata": {},
     "output_type": "execute_result"
    }
   ],
   "source": [
    "name"
   ]
  },
  {
   "cell_type": "code",
   "execution_count": 85,
   "id": "dc72e9e5",
   "metadata": {},
   "outputs": [
    {
     "data": {
      "text/plain": [
       "20"
      ]
     },
     "execution_count": 85,
     "metadata": {},
     "output_type": "execute_result"
    }
   ],
   "source": [
    "age"
   ]
  },
  {
   "cell_type": "code",
   "execution_count": 86,
   "id": "434c826e",
   "metadata": {},
   "outputs": [
    {
     "data": {
      "text/plain": [
       "'Commerce'"
      ]
     },
     "execution_count": 86,
     "metadata": {},
     "output_type": "execute_result"
    }
   ],
   "source": [
    "dept"
   ]
  },
  {
   "cell_type": "code",
   "execution_count": 87,
   "id": "410c5892",
   "metadata": {},
   "outputs": [
    {
     "ename": "ValueError",
     "evalue": "too many values to unpack (expected 3)",
     "output_type": "error",
     "traceback": [
      "\u001b[1;31m---------------------------------------------------------------------------\u001b[0m",
      "\u001b[1;31mValueError\u001b[0m                                Traceback (most recent call last)",
      "Input \u001b[1;32mIn [87]\u001b[0m, in \u001b[0;36m<cell line: 1>\u001b[1;34m()\u001b[0m\n\u001b[1;32m----> 1\u001b[0m a, b, c \u001b[38;5;241m=\u001b[39m \u001b[38;5;124m'\u001b[39m\u001b[38;5;124msam\u001b[39m\u001b[38;5;124m'\u001b[39m, \u001b[38;5;124m'\u001b[39m\u001b[38;5;124mmam\u001b[39m\u001b[38;5;124m'\u001b[39m, \u001b[38;5;124m'\u001b[39m\u001b[38;5;124mcam\u001b[39m\u001b[38;5;124m'\u001b[39m, \u001b[38;5;124m'\u001b[39m\u001b[38;5;124mcan\u001b[39m\u001b[38;5;124m'\u001b[39m\n",
      "\u001b[1;31mValueError\u001b[0m: too many values to unpack (expected 3)"
     ]
    }
   ],
   "source": [
    "a, b, c = 'sam', 'mam', 'cam', 'can'"
   ]
  },
  {
   "cell_type": "code",
   "execution_count": 88,
   "id": "18feddc0",
   "metadata": {},
   "outputs": [],
   "source": [
    "a, b, *c = 'sam', 'mam', 'cam', 'can'"
   ]
  },
  {
   "cell_type": "code",
   "execution_count": 89,
   "id": "5d311758",
   "metadata": {},
   "outputs": [
    {
     "data": {
      "text/plain": [
       "['cam', 'can']"
      ]
     },
     "execution_count": 89,
     "metadata": {},
     "output_type": "execute_result"
    }
   ],
   "source": [
    "c     # * store everything present in 'c'"
   ]
  }
 ],
 "metadata": {
  "kernelspec": {
   "display_name": "Python 3 (ipykernel)",
   "language": "python",
   "name": "python3"
  },
  "language_info": {
   "codemirror_mode": {
    "name": "ipython",
    "version": 3
   },
   "file_extension": ".py",
   "mimetype": "text/x-python",
   "name": "python",
   "nbconvert_exporter": "python",
   "pygments_lexer": "ipython3",
   "version": "3.9.12"
  }
 },
 "nbformat": 4,
 "nbformat_minor": 5
}
