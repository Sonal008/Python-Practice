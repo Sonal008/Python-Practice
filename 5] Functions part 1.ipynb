{
 "cells": [
  {
   "cell_type": "markdown",
   "id": "afe727fd",
   "metadata": {},
   "source": [
    "# Functions\n",
    "- ### Code reusability\n",
    "- ### Create own function by keyword- 'def'"
   ]
  },
  {
   "cell_type": "code",
   "execution_count": 1,
   "id": "1564d1ed",
   "metadata": {},
   "outputs": [],
   "source": [
    "def simplefunction():                           #function name\n",
    "    print('Starting point of function')\n",
    "    print('Finishing point of function')"
   ]
  },
  {
   "cell_type": "code",
   "execution_count": 2,
   "id": "71e67abc",
   "metadata": {},
   "outputs": [
    {
     "name": "stdout",
     "output_type": "stream",
     "text": [
      "Starting point of function\n",
      "Finishing point of function\n"
     ]
    }
   ],
   "source": [
    "simplefunction()                                #call function name"
   ]
  },
  {
   "cell_type": "markdown",
   "id": "8d5a5b1a",
   "metadata": {},
   "source": [
    "#### Q. Find maximum of numbers"
   ]
  },
  {
   "cell_type": "code",
   "execution_count": 3,
   "id": "9da548f1",
   "metadata": {},
   "outputs": [],
   "source": [
    "def maxNum(x1, x2):                        #compare two numbers\n",
    "    \n",
    "    \"\"\"function takes two numbers as x1 and x2 and returns maximum number among them\"\"\"\n",
    "    \n",
    "    if x1 > x2:                            #give spaces around the operator\n",
    "        return x1                          #return the x1 \n",
    "    else:\n",
    "        return x2                          #else return x2 "
   ]
  },
  {
   "cell_type": "raw",
   "id": "d499735f",
   "metadata": {},
   "source": [
    "doc string - \"\"\" \"\"\" - inside this format "
   ]
  },
  {
   "cell_type": "code",
   "execution_count": 4,
   "id": "6b9447c7",
   "metadata": {},
   "outputs": [
    {
     "data": {
      "text/plain": [
       "4"
      ]
     },
     "execution_count": 4,
     "metadata": {},
     "output_type": "execute_result"
    }
   ],
   "source": [
    "maxNum(2,4)                                #pass the numbers "
   ]
  },
  {
   "cell_type": "code",
   "execution_count": 5,
   "id": "8805e1b7",
   "metadata": {},
   "outputs": [
    {
     "data": {
      "text/plain": [
       "function"
      ]
     },
     "execution_count": 5,
     "metadata": {},
     "output_type": "execute_result"
    }
   ],
   "source": [
    "type(maxNum)"
   ]
  },
  {
   "cell_type": "markdown",
   "id": "f980dff9",
   "metadata": {},
   "source": [
    "### Q. Find factorial\n",
    " #### Iterative approach \n",
    "- 5!= 5x4x3x2x1\n",
    "- 1! = 1\n",
    "- 0! = 1"
   ]
  },
  {
   "cell_type": "code",
   "execution_count": 6,
   "id": "c730aa5e",
   "metadata": {},
   "outputs": [],
   "source": [
    "def iterfactorial(num):\n",
    "    result = 1\n",
    "    for i in range(1, num+1):\n",
    "        result =  result*i\n",
    "    return result                      #return value from the function"
   ]
  },
  {
   "cell_type": "code",
   "execution_count": 7,
   "id": "a8d10e2a",
   "metadata": {},
   "outputs": [
    {
     "data": {
      "text/plain": [
       "120"
      ]
     },
     "execution_count": 7,
     "metadata": {},
     "output_type": "execute_result"
    }
   ],
   "source": [
    "iterfactorial(5)"
   ]
  },
  {
   "cell_type": "code",
   "execution_count": 8,
   "id": "7068edd1",
   "metadata": {},
   "outputs": [
    {
     "name": "stdout",
     "output_type": "stream",
     "text": [
      "Enter a number = 7\n",
      "Results =  5040\n"
     ]
    }
   ],
   "source": [
    "num = int(input('Enter a number = '))             #function is int and not string\n",
    "print(\"Results = \", iterfactorial(num))"
   ]
  },
  {
   "cell_type": "markdown",
   "id": "d53c3309",
   "metadata": {},
   "source": [
    "# Recursive\n",
    "- 5! = 5 x 4!\n",
    "- 4! = 4 x 3!"
   ]
  },
  {
   "cell_type": "code",
   "execution_count": 9,
   "id": "7ace231d",
   "metadata": {},
   "outputs": [],
   "source": [
    "def recursive_factorial(num):\n",
    "    if num == 0 or num == 1:\n",
    "        return 1\n",
    "    else:\n",
    "        return num*recursive_factorial(num-1)        \n",
    "\n",
    "#e.g 4! = 4-1 will go to if condition untill it gives num = 1"
   ]
  },
  {
   "cell_type": "code",
   "execution_count": 10,
   "id": "25c32fdd",
   "metadata": {},
   "outputs": [
    {
     "data": {
      "text/plain": [
       "720"
      ]
     },
     "execution_count": 10,
     "metadata": {},
     "output_type": "execute_result"
    }
   ],
   "source": [
    "recursive_factorial(6)"
   ]
  },
  {
   "cell_type": "markdown",
   "id": "bb07cc90",
   "metadata": {},
   "source": [
    "# Default arguments"
   ]
  },
  {
   "cell_type": "code",
   "execution_count": 11,
   "id": "72bc6d12",
   "metadata": {},
   "outputs": [],
   "source": [
    "def defaultArgumentsFunc(x):                   #default arguement- flexible value\n",
    "    print('The value of x is {}'. format(x))"
   ]
  },
  {
   "cell_type": "code",
   "execution_count": 12,
   "id": "a25e8ba8",
   "metadata": {},
   "outputs": [
    {
     "name": "stdout",
     "output_type": "stream",
     "text": [
      "The value of x is 2\n"
     ]
    }
   ],
   "source": [
    "defaultArgumentsFunc(2)"
   ]
  },
  {
   "cell_type": "code",
   "execution_count": 13,
   "id": "1bec3678",
   "metadata": {},
   "outputs": [],
   "source": [
    "def defaultArgumentsFunc(x = 7):                # 'x' is defined- flexibilty is restricted \n",
    "    print('The value of x is {}'. format(x))"
   ]
  },
  {
   "cell_type": "code",
   "execution_count": 14,
   "id": "4b95e78c",
   "metadata": {},
   "outputs": [
    {
     "name": "stdout",
     "output_type": "stream",
     "text": [
      "The value of x is 7\n"
     ]
    }
   ],
   "source": [
    "defaultArgumentsFunc()"
   ]
  },
  {
   "cell_type": "code",
   "execution_count": 15,
   "id": "626d9444",
   "metadata": {},
   "outputs": [],
   "source": [
    "def defaultArgumentsFunc(a, b, c):\n",
    "    print(\"results {}, {}, {}\".format(a,b,c))"
   ]
  },
  {
   "cell_type": "code",
   "execution_count": 16,
   "id": "5f8da6ed",
   "metadata": {},
   "outputs": [
    {
     "name": "stdout",
     "output_type": "stream",
     "text": [
      "results 10, 20, 30\n"
     ]
    }
   ],
   "source": [
    "defaultArgumentsFunc(10,20,30)"
   ]
  },
  {
   "cell_type": "code",
   "execution_count": 17,
   "id": "88f9011d",
   "metadata": {},
   "outputs": [
    {
     "name": "stdout",
     "output_type": "stream",
     "text": [
      "results 20, 10, 30\n"
     ]
    }
   ],
   "source": [
    "defaultArgumentsFunc(b= 10,a=20,c=30)          #order doesnt affect"
   ]
  },
  {
   "cell_type": "code",
   "execution_count": 18,
   "id": "dce597a6",
   "metadata": {},
   "outputs": [
    {
     "ename": "SyntaxError",
     "evalue": "positional argument follows keyword argument (3397429125.py, line 1)",
     "output_type": "error",
     "traceback": [
      "\u001b[1;36m  Input \u001b[1;32mIn [18]\u001b[1;36m\u001b[0m\n\u001b[1;33m    defaultArgumentsFunc(b= 10,20,c=30)            #named arguements missing in between\u001b[0m\n\u001b[1;37m                                      ^\u001b[0m\n\u001b[1;31mSyntaxError\u001b[0m\u001b[1;31m:\u001b[0m positional argument follows keyword argument\n"
     ]
    }
   ],
   "source": [
    "defaultArgumentsFunc(b= 10,20,c=30)            #named arguements missing in between  "
   ]
  },
  {
   "cell_type": "code",
   "execution_count": 19,
   "id": "e5a4138a",
   "metadata": {},
   "outputs": [
    {
     "name": "stdout",
     "output_type": "stream",
     "text": [
      "results 10, 20, 30\n"
     ]
    }
   ],
   "source": [
    "defaultArgumentsFunc(10, b= 20,c=30)            #named arguement missing at first position is acceptable"
   ]
  },
  {
   "cell_type": "code",
   "execution_count": 20,
   "id": "cb642045",
   "metadata": {},
   "outputs": [
    {
     "ename": "TypeError",
     "evalue": "defaultArgumentsFunc() got multiple values for argument 'a'",
     "output_type": "error",
     "traceback": [
      "\u001b[1;31m---------------------------------------------------------------------------\u001b[0m",
      "\u001b[1;31mTypeError\u001b[0m                                 Traceback (most recent call last)",
      "Input \u001b[1;32mIn [20]\u001b[0m, in \u001b[0;36m<cell line: 1>\u001b[1;34m()\u001b[0m\n\u001b[1;32m----> 1\u001b[0m \u001b[43mdefaultArgumentsFunc\u001b[49m\u001b[43m(\u001b[49m\u001b[38;5;241;43m10\u001b[39;49m\u001b[43m,\u001b[49m\u001b[43m \u001b[49m\u001b[43mb\u001b[49m\u001b[38;5;241;43m=\u001b[39;49m\u001b[43m \u001b[49m\u001b[38;5;241;43m20\u001b[39;49m\u001b[43m,\u001b[49m\u001b[43ma\u001b[49m\u001b[38;5;241;43m=\u001b[39;49m\u001b[38;5;241;43m30\u001b[39;49m\u001b[43m)\u001b[49m\n",
      "\u001b[1;31mTypeError\u001b[0m: defaultArgumentsFunc() got multiple values for argument 'a'"
     ]
    }
   ],
   "source": [
    "defaultArgumentsFunc(10, b= 20,a=30)            #'a' used twice"
   ]
  },
  {
   "cell_type": "markdown",
   "id": "367a4da2",
   "metadata": {},
   "source": [
    "# Lambda function\n",
    "- anonymous function\n",
    "- one liners\n",
    "- no return value\n",
    "- no code reusability\n",
    "- no name for function\n",
    "- used with Higher order function"
   ]
  },
  {
   "cell_type": "code",
   "execution_count": 23,
   "id": "7b345306",
   "metadata": {},
   "outputs": [],
   "source": [
    "def squares(x):\n",
    "    return x*x"
   ]
  },
  {
   "cell_type": "code",
   "execution_count": 24,
   "id": "ef63d519",
   "metadata": {},
   "outputs": [
    {
     "data": {
      "text/plain": [
       "576"
      ]
     },
     "execution_count": 24,
     "metadata": {},
     "output_type": "execute_result"
    }
   ],
   "source": [
    "squares(24)"
   ]
  },
  {
   "cell_type": "code",
   "execution_count": 25,
   "id": "53e5e4f4",
   "metadata": {},
   "outputs": [],
   "source": [
    "f = lambda x: x*x                        "
   ]
  },
  {
   "cell_type": "raw",
   "id": "c9a8eeb2",
   "metadata": {},
   "source": [
    "f - function name\n",
    "lambda- keyword to invoke function\n",
    "x*x - operation\n",
    ": - equal to\n",
    "x = argument"
   ]
  },
  {
   "cell_type": "code",
   "execution_count": 26,
   "id": "f3ede4b9",
   "metadata": {},
   "outputs": [
    {
     "data": {
      "text/plain": [
       "36"
      ]
     },
     "execution_count": 26,
     "metadata": {},
     "output_type": "execute_result"
    }
   ],
   "source": [
    "f(6)"
   ]
  },
  {
   "cell_type": "code",
   "execution_count": 27,
   "id": "127af06f",
   "metadata": {},
   "outputs": [
    {
     "data": {
      "text/plain": [
       "8"
      ]
     },
     "execution_count": 27,
     "metadata": {},
     "output_type": "execute_result"
    }
   ],
   "source": [
    "mul = lambda x,y : x*y\n",
    "mul(2,4)"
   ]
  },
  {
   "cell_type": "code",
   "execution_count": 28,
   "id": "3574c1cd",
   "metadata": {},
   "outputs": [
    {
     "data": {
      "text/plain": [
       "8"
      ]
     },
     "execution_count": 28,
     "metadata": {},
     "output_type": "execute_result"
    }
   ],
   "source": [
    "(lambda x,y : x*y)(2,4)"
   ]
  },
  {
   "cell_type": "code",
   "execution_count": 29,
   "id": "dcf2d7eb",
   "metadata": {},
   "outputs": [],
   "source": [
    "def mul(x,y):\n",
    "    return x*y"
   ]
  },
  {
   "cell_type": "code",
   "execution_count": 30,
   "id": "97f271df",
   "metadata": {},
   "outputs": [
    {
     "data": {
      "text/plain": [
       "8"
      ]
     },
     "execution_count": 30,
     "metadata": {},
     "output_type": "execute_result"
    }
   ],
   "source": [
    "mul(2,4)"
   ]
  },
  {
   "cell_type": "code",
   "execution_count": 31,
   "id": "4db970b0",
   "metadata": {},
   "outputs": [
    {
     "data": {
      "text/plain": [
       "8"
      ]
     },
     "execution_count": 31,
     "metadata": {},
     "output_type": "execute_result"
    }
   ],
   "source": [
    "(lambda x: x*2)(4)"
   ]
  },
  {
   "cell_type": "code",
   "execution_count": 32,
   "id": "ea788f6a",
   "metadata": {},
   "outputs": [
    {
     "data": {
      "text/plain": [
       "27"
      ]
     },
     "execution_count": 32,
     "metadata": {},
     "output_type": "execute_result"
    }
   ],
   "source": [
    "(lambda x: x*x*x)(3)"
   ]
  },
  {
   "cell_type": "code",
   "execution_count": 33,
   "id": "5b8877f7",
   "metadata": {},
   "outputs": [
    {
     "data": {
      "text/plain": [
       "3.0"
      ]
     },
     "execution_count": 33,
     "metadata": {},
     "output_type": "execute_result"
    }
   ],
   "source": [
    "(lambda x, y: (x+y)/2)(2,4)"
   ]
  },
  {
   "cell_type": "code",
   "execution_count": 34,
   "id": "2c607751",
   "metadata": {},
   "outputs": [
    {
     "data": {
      "text/plain": [
       "True"
      ]
     },
     "execution_count": 34,
     "metadata": {},
     "output_type": "execute_result"
    }
   ],
   "source": [
    "b = lambda x: x[0] == 'a'\n",
    "b('apple')"
   ]
  },
  {
   "cell_type": "code",
   "execution_count": 35,
   "id": "612fe30d",
   "metadata": {},
   "outputs": [
    {
     "data": {
      "text/plain": [
       "False"
      ]
     },
     "execution_count": 35,
     "metadata": {},
     "output_type": "execute_result"
    }
   ],
   "source": [
    "b('banana')"
   ]
  },
  {
   "cell_type": "code",
   "execution_count": 36,
   "id": "3da5e220",
   "metadata": {},
   "outputs": [
    {
     "data": {
      "text/plain": [
       "'Even'"
      ]
     },
     "execution_count": 36,
     "metadata": {},
     "output_type": "execute_result"
    }
   ],
   "source": [
    "c = lambda x: 'Even' if x%2 ==0 else 'Odd'\n",
    "c(2)"
   ]
  },
  {
   "cell_type": "code",
   "execution_count": 37,
   "id": "2056ba8d",
   "metadata": {},
   "outputs": [
    {
     "data": {
      "text/plain": [
       "'Odd'"
      ]
     },
     "execution_count": 37,
     "metadata": {},
     "output_type": "execute_result"
    }
   ],
   "source": [
    "c(7)"
   ]
  }
 ],
 "metadata": {
  "kernelspec": {
   "display_name": "Python 3 (ipykernel)",
   "language": "python",
   "name": "python3"
  },
  "language_info": {
   "codemirror_mode": {
    "name": "ipython",
    "version": 3
   },
   "file_extension": ".py",
   "mimetype": "text/x-python",
   "name": "python",
   "nbconvert_exporter": "python",
   "pygments_lexer": "ipython3",
   "version": "3.9.12"
  }
 },
 "nbformat": 4,
 "nbformat_minor": 5
}
